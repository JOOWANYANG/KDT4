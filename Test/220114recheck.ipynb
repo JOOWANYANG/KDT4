{
 "cells": [
  {
   "cell_type": "markdown",
   "metadata": {},
   "source": [
    "# Str"
   ]
  },
  {
   "cell_type": "code",
   "execution_count": null,
   "metadata": {},
   "outputs": [],
   "source": [
    "txt1 = '  A tale that was not right  '\n",
    "txt2 = '이 또한 지나가리라'\n",
    "\n",
    "\n",
    "#❗4  txt1에서 모음의 갯수는 몇 개인가?\n",
    "#❗10 txt2를 character 단위로 나누어서 리스트에 담으시오)\n",
    "#❗11 txt1의 좌우 공백을 제거하시오\n",
    "#❗12 txt2를 역순으로 출력하시오\n",
    "#❗13 txt1에서 짝수 인덱스만 출력하시오\n",
    "#❗18 txt1의 문자를 index와 튜플로 묶어서 리스트에 담으시오\n",
    "\n",
    "url = 'http://www.naver.com/news/today=20221230'\n",
    "#❗ url 중 도메인만 출력하시오 (split 사용)\n",
    "\n",
    "#❗\n",
    "log = 'name : 홍길동 ,age : 17 ,sex: 남성, nation : 대한민국'\n",
    "# 아래와 같이 출력하세요\n",
    "# name   : 홍길동\n",
    "# age    : 17\n",
    "# sex    : 남성\n",
    "# nation : 대한민국"
   ]
  },
  {
   "cell_type": "markdown",
   "metadata": {},
   "source": [
    "# List"
   ]
  },
  {
   "cell_type": "code",
   "execution_count": null,
   "metadata": {},
   "outputs": [],
   "source": [
    "score = [81, 90, 78, 'python', 'hello', True, [78, 56, 32], (24,25,3)]\n",
    "\n",
    "\n",
    "# ❗마지막에서 2번째 요소를 내림차순으로 정렬하시오\n",
    "# 90은 몇 번째 인덱스에 있는지 확인하시오\n",
    "# ❗리스트를 역순으로 정렬하시오\n",
    "# ❗3번째 인덱스에 'sea'를 추가하시오\n",
    "# ❗True를 False로 수정하시오\n",
    "# ❗'world'를 제거하시오\n",
    "# ❗7번쨰 요소를 제거하시오\n",
    "# ❗마지막 요소를 제거하시오\n",
    "# ❗❗[78, 56, 32]를 '78:56:32' 로 수정하시오"
   ]
  }
 ],
 "metadata": {
  "language_info": {
   "name": "python"
  },
  "orig_nbformat": 4
 },
 "nbformat": 4,
 "nbformat_minor": 2
}
