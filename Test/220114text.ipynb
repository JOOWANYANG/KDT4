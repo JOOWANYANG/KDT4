{
 "cells": [
  {
   "cell_type": "markdown",
   "id": "e265e2b6",
   "metadata": {},
   "source": [
    "String"
   ]
  },
  {
   "cell_type": "code",
   "execution_count": null,
   "id": "76b03e84",
   "metadata": {},
   "outputs": [],
   "source": [
    "txt1 = '  A tale that was not right  '\n",
    "txt2 = '이 또한 지나가리라'\n",
    "\n",
    "# -------------------------\n",
    "\n",
    "\n",
    "#1 tale 을 출력하시오\n",
    "txt1[4:8]\n",
    "#2 '지'를 출력하시오\n",
    "txt2[5]\n",
    "#3 'a'는 몇 개가 존재하는가?\n",
    "txt1.count('a')\n",
    "#❗4  txt1에서 모음의 갯수는 몇 개인가?\n",
    "suma = 0\n",
    "for c in txt1:\n",
    "    if c in 'aeiouAEIOU':\n",
    "        suma += 1\n",
    "suma\n",
    "#5 '또한'을 '것도' 로 수정하시오\n",
    "txt2.replace('또한','것도')\n",
    "#6 txt1을 대문자로 출력하시오.\n",
    "txt1.upper()\n",
    "#7 txt1에서 right는 몇번째 인덱스에 등장하는가?\n",
    "txt1.find('right')\n",
    "#8 txt1을 space를 기준으로 나누어서 리스트에 담으시오\n",
    "txt1.split(\" \")\n",
    "#9 txt2의 길이는 얼마인가?\n",
    "len(txt2)\n",
    "#❗10 txt2를 character 단위로 나누어서 리스트에 담으시오\n",
    "list(txt2)\n",
    "#❗11 txt1의 좌우 공백을 제거하시오\n",
    "txt1.strip()\n",
    "#❗12 txt2를 역순으로 출력하시오\n",
    "txt2[::-1]\n",
    "#❗13 txt1에서 짝수 인덱스만 출력하시오\n",
    "txt1[0:len(txt1):2]\n",
    "#14 txt2를 두번 반복하시오\n",
    "txt2*2\n",
    "#15 txt1과 txt2를 연결하여 하나의 문자열로 만드시오\n",
    "txt1 + txt2\n",
    "#16 txt1에서 'right' 이 존재하는지 확인하시오\n",
    "'right' in txt1\n",
    "#17 txt1에서 뒤에서 5번쨰 문자를 출력하시오\n",
    "txt1[-5]\n",
    "#❗18 txt1의 문자를 index와 튜플로 묶어서 리스트에 담으시오\n",
    "[(i,c) for i , c in enumerate(txt1)]\n"
   ]
  },
  {
   "cell_type": "code",
   "execution_count": 16,
   "id": "48d6f898",
   "metadata": {},
   "outputs": [],
   "source": [
    "url = 'http://www.naver.com/news/today=20221230'\n",
    "#❗1 url 중 도메인만 출력하시오 (split 사용)\n",
    "url.split('/')[2]\n",
    "\n",
    "\n",
    "#❗2\n",
    "log = 'name : 홍길동 ,age : 17 ,sex: 남성, nation : 대한민국'\n",
    "# 아래와 같이 출력하세요\n",
    "# name   : 홍길동\n",
    "# age    : 17\n",
    "# sex    : 남성\n",
    "# nation : 대한민국\n",
    "for i in log.split(\",\"):\n",
    "    name = i.split(':')[0].strip()\n",
    "    age = i.split(':')[1].strip()\n"
   ]
  },
  {
   "cell_type": "code",
   "execution_count": 42,
   "id": "bd4909d9",
   "metadata": {},
   "outputs": [
    {
     "data": {
      "text/plain": [
       "7"
      ]
     },
     "execution_count": 42,
     "metadata": {},
     "output_type": "execute_result"
    }
   ],
   "source": []
  }
 ],
 "metadata": {
  "kernelspec": {
   "display_name": "Python 3 (ipykernel)",
   "language": "python",
   "name": "python3"
  },
  "language_info": {
   "codemirror_mode": {
    "name": "ipython",
    "version": 3
   },
   "file_extension": ".py",
   "mimetype": "text/x-python",
   "name": "python",
   "nbconvert_exporter": "python",
   "pygments_lexer": "ipython3",
   "version": "3.10.1"
  }
 },
 "nbformat": 4,
 "nbformat_minor": 5
}
