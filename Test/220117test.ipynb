{
 "cells": [
  {
   "cell_type": "code",
   "execution_count": 17,
   "metadata": {},
   "outputs": [
    {
     "name": "stdout",
     "output_type": "stream",
     "text": [
      "yuna,yuna@hanmail.net,seoul\n"
     ]
    }
   ],
   "source": [
    "## 명함을 출력하는 class BusinessCard만들고 객체를 생성해서 메소드를 실행하시오.\n",
    "# 인스턴스변수 : name, email, addr\n",
    "# 메소드 : __init__ : 인스턴스 변수 초기화\n",
    "# 메소드 : print_business_card : 명함을 출력하는 메소드\n",
    "class BusinessCard:\n",
    "    def __init__(self , name , email , addr):\n",
    "        self.name = name\n",
    "        self.email = email\n",
    "        self.addr = addr\n",
    "\n",
    "    def print_business_card(self):\n",
    "        print(\"{},{},{}\".format(self.name,self.email,self.addr))\n",
    "\n",
    "bc = BusinessCard('yuna','yuna@hanmail.net','seoul')\n",
    "bc.print_business_card()"
   ]
  },
  {
   "cell_type": "code",
   "execution_count": 16,
   "metadata": {},
   "outputs": [
    {
     "data": {
      "text/plain": [
       "'sing'"
      ]
     },
     "execution_count": 16,
     "metadata": {},
     "output_type": "execute_result"
    }
   ],
   "source": [
    "# 부모 class Parent\n",
    "# 메소드 : can_sing\n",
    "# 자식 class LuckyChild\n",
    "# 메소드 : can_dance\n",
    "# 위의 두 클래스를 만들고 child class의 메소드를 실행하시오..\n",
    "\n",
    "class Parent:\n",
    "    def can_sing(self):\n",
    "        return \"sing\"\n",
    "\n",
    "class LuckyChild(Parent):\n",
    "    def can_dance(self):\n",
    "        return \"dance\"\n",
    "\n",
    "l = LuckyChild()\n",
    "l.can_dance()\n",
    "l.can_sing()\n"
   ]
  },
  {
   "cell_type": "code",
   "execution_count": null,
   "metadata": {},
   "outputs": [],
   "source": [
    "# 사칙연산 클래스를 만들고 메소드를 실행하시오..\n",
    "# 인스턴스변수 : x, y\n",
    "# 메소드 : init, add, sub, mul, div\n",
    "# overriding\n",
    "\n",
    "# overriding\n",
    "#Calculator class의 div 메소드를 overriding..\n",
    "\n",
    "class Four:\n",
    "    def __init__(self,x,y):\n",
    "        self.x = x\n",
    "        self.y = y\n",
    "\n",
    "    def add(self):\n",
    "        result = self.x + self.y\n",
    "        return result\n",
    "    def sub(self):\n",
    "        result = self.x - self.y\n",
    "        return result\n",
    "    def mul(self):\n",
    "        result = self.x * self.y\n",
    "        return result\n",
    "    def div(self):\n",
    "        result = self.x / self.y\n",
    "        return result\n",
    "\n",
    "    "
   ]
  },
  {
   "cell_type": "code",
   "execution_count": 26,
   "metadata": {},
   "outputs": [
    {
     "data": {
      "text/plain": [
       "314.0"
      ]
     },
     "execution_count": 26,
     "metadata": {},
     "output_type": "execute_result"
    }
   ],
   "source": [
    "# 원의 면적과 원의 둘레를 구현하는 class Circle\n",
    "# 인스턴스변수 : r(반지름)\n",
    "# 메소드 : area(원의 면적: 3.14*r**2), perimeter(원의 둘레: 3.14*r*2)\n",
    "\n",
    "class Circle:\n",
    "    p = 3.14\n",
    "    def __init__(self,r):\n",
    "        self.r = r\n",
    "\n",
    "    def area(self,r):\n",
    "        result = 3.14*r**2\n",
    "        return result\n",
    "    def perimeter(self,r):\n",
    "        result = 3.14*r*2\n",
    "        return result\n",
    "\n",
    "    def Circul(self):\n",
    "        print(\"원의 면적은 {}, 둘레는 {} 입니다.\".format(self,self.area,self.perimeter))\n",
    "\n",
    "c = Circle(0)\n",
    "c.area(10)\n",
    "\n",
    "        "
   ]
  },
  {
   "cell_type": "code",
   "execution_count": null,
   "metadata": {},
   "outputs": [],
   "source": [
    "# str\n",
    "xt1 = 'A tale that was not right'\n",
    "# 'ale' 이 출력..\n",
    "# 'A tale' 출력\n",
    "# 'not' 출력\n",
    "# txt1을 소문자 전환\n",
    "# txt1을 대문자 전환\n",
    "# 'o'가 몇 개 존재하는가?\n",
    "# 'o'가 몇 번 인덱스에 존재하는가?\n",
    "# txt1의 길이는 어떻게 되는가?\n",
    "# space를 기준으로 나누어서 List에 담으세요..\n",
    "# 'tale'을  'story'로 바꾸세요..\n",
    "# txt1 안에 'right'가 존재하는지 확인"
   ]
  },
  {
   "cell_type": "code",
   "execution_count": null,
   "metadata": {},
   "outputs": [],
   "source": [
    "# List\n",
    "sol = ['태양','수성','금성','지구','화성','목성','지구']\n",
    "sol1 = ['토성','천황성','해왕성']\n",
    "planet = '지구'\n",
    "\n",
    "# 1. sol에서 ['수성','금성']을 출력\n",
    "# 2. sol에서 '지구' 위치 인덱스 출력\n",
    "# 3. sol에서 '화성'을 '해왕성'으로 수정\n",
    "# 4. '수성'자리에 '명왕성' 삽입\n",
    "# 5. '토성'을 맨 끝에 삽입\n",
    "# 6. 맨 끝 요소를 삭제하고 리턴\n",
    "# 7. '금성'을 제거\n",
    "# 8. 1번 인덱스에서 3번 인덱스까지 삭제\n",
    "# 9. 인덱스 2번 요소 삭제\n",
    "# 10. sol과 sol1을 합치세요\n",
    "# 11. 내림차순 정렬\n",
    "# 12. 오름차순 정렬\n",
    "# 13. '만리장성'이 있는지 확인\n",
    "# 14. so1을 3번 반복하세요\n",
    "# 15. 길이를 출력하세요\n",
    "# 16. '지구'가 몇 개 포함되어있는지 확인.\n",
    "# 17. 모든 원소를 지우세요.\n",
    "# 18. sol리스트를 삭제하세요.."
   ]
  },
  {
   "cell_type": "code",
   "execution_count": 52,
   "metadata": {},
   "outputs": [],
   "source": [
    "# for 임시변수 in 군집형데이터\n",
    "# 실행코드\n",
    "\n",
    "# 모음의 숫자를 계산해라\n",
    "text = 'computational thinking'\n",
    "vowel = 'aeiouAEIOU'\n",
    "suma = 0\n",
    "for c in text:\n",
    "    if c in vowel:\n",
    "        suma = +1\n"
   ]
  },
  {
   "cell_type": "code",
   "execution_count": null,
   "metadata": {},
   "outputs": [],
   "source": [
    "# while 조건식:\n",
    "실행코드"
   ]
  },
  {
   "cell_type": "code",
   "execution_count": 61,
   "metadata": {},
   "outputs": [
    {
     "data": {
      "text/plain": [
       "26"
      ]
     },
     "execution_count": 61,
     "metadata": {},
     "output_type": "execute_result"
    }
   ],
   "source": [
    "# word의 길이가 4이상인 단어의 단어길이 총합?\n",
    "words = ['mountain', 'sea' , 'sky' , 'river' , 'cloud' , 'tree' , 'take']\n",
    "su = 0\n",
    "for c in words:\n",
    "    if len(c) >= 4:\n",
    "        su += len(c)\n",
    "su"
   ]
  },
  {
   "cell_type": "code",
   "execution_count": null,
   "metadata": {},
   "outputs": [],
   "source": [
    "# 두 리스트 원소간의 모든 조합을 리스트에 담아라\n",
    "# [('a', '가'),('a', '나') ....('d', '다'), (['d', '라'])\n",
    "\n",
    "l1 = ['a','b','c','d']\n",
    "l2 = ['가','나','다','라']\n",
    "li = []\n",
    "\n",
    "for i in l1:\n",
    "    for j in l2:\n",
    "        li.append((i,j))\n",
    "li"
   ]
  },
  {
   "cell_type": "code",
   "execution_count": 76,
   "metadata": {},
   "outputs": [
    {
     "name": "stdout",
     "output_type": "stream",
     "text": [
      "110 100\n"
     ]
    }
   ],
   "source": [
    "# for 문과 while 문을 이용하여 1~20 정수에서 짝수의 합과 홀수의 합을 구하시오\n",
    "even = 0\n",
    "odd = 0\n",
    "count = 0\n",
    "while count < 21:\n",
    "\n",
    "    if count%2 == 0:\n",
    "        even += count\n",
    "    else:\n",
    "        odd += count \n",
    "        \n",
    "    count += 1\n",
    "\n",
    "print(even,odd)\n"
   ]
  },
  {
   "cell_type": "code",
   "execution_count": null,
   "metadata": {},
   "outputs": [],
   "source": [
    "# break 와 continue 를 이용하여 1~10 정수중 4,5,6,7 만 출력\n",
    "sum = 0\n",
    "count = 0\n",
    "while count < 10:\n",
    "    count += 1\n",
    "    if count < 4:\n",
    "        continue\n",
    "    if count > 7:\n",
    "        break\n",
    "    \n",
    "    print(count)\n",
    "        "
   ]
  },
  {
   "cell_type": "code",
   "execution_count": 82,
   "metadata": {},
   "outputs": [
    {
     "data": {
      "text/plain": [
       "120"
      ]
     },
     "execution_count": 82,
     "metadata": {},
     "output_type": "execute_result"
    }
   ],
   "source": [
    "# 임의의 수를 입력받은 후 팩토리얼을 계산하는 코드를 작성하시오.\n",
    "\n",
    "ran_num = int(input(\"임의의 수\"))\n",
    "last = 1\n",
    "\n",
    "while ran_num > 1:\n",
    "    last *= ran_num\n",
    "    ran_num -= 1\n",
    "\n",
    "last\n"
   ]
  },
  {
   "cell_type": "markdown",
   "metadata": {},
   "source": []
  },
  {
   "cell_type": "code",
   "execution_count": 83,
   "metadata": {},
   "outputs": [],
   "source": [
    "L = [70,100,80,120,130,170,30]\n",
    "# 반복문을 이용하여 최대 최소를 구하여라\n",
    "max_n = L[0]"
   ]
  },
  {
   "cell_type": "code",
   "execution_count": null,
   "metadata": {},
   "outputs": [],
   "source": [
    "text = 'computational thinking'\n",
    "# 홀수 인덱스만 반복\n",
    "\n",
    "for i in range[1,2]:\n",
    "    "
   ]
  },
  {
   "cell_type": "code",
   "execution_count": null,
   "metadata": {},
   "outputs": [],
   "source": [
    "# 구구단 출력"
   ]
  },
  {
   "cell_type": "markdown",
   "metadata": {},
   "source": [
    "# File"
   ]
  },
  {
   "cell_type": "code",
   "execution_count": null,
   "metadata": {},
   "outputs": [],
   "source": [
    "# 1. 파일을 연다 - open() => 모드를 설정 : 'r' , 'w'\n",
    "# 2. 파일을 읽거나 쓴다 - read(), write()\n",
    "# 3. 파일을 닫는다 - close()\n",
    "\n",
    "# f =open('filename','r')\n",
    "# text = f.read()\n",
    "# f.close()\n",
    "\n",
    "# with open('filename','r') as f:  *with 구문 : close()를 타이핑하지 않아도 됨(자동으로 수행)\n",
    "# text f.read()\n",
    "\n",
    "# f = open('filename'. 'w')\n",
    "# f.write(text)\n",
    "# f.close\n",
    "\n",
    "# with.open('filename', 'w') as f:\n",
    "# f.write(text)\n",
    "\n",
    "# 인터넷 뉴스 텍스트를 'news.txt' 파일로 저장하시오\n",
    "# 'news.txt' 파일을 4가지 다른 방식으로 열어서 출력하시오\n",
    "\n",
    "f = open('news.txt','w')\n",
    "f.write(news)\n",
    "f.close\n"
   ]
  },
  {
   "cell_type": "code",
   "execution_count": null,
   "metadata": {},
   "outputs": [],
   "source": [
    "f = open('newstxt','t')\n",
    "\n",
    "for line in f:\n",
    "    print(line)"
   ]
  },
  {
   "cell_type": "code",
   "execution_count": null,
   "metadata": {},
   "outputs": [],
   "source": [
    "# with.open('filename','r') as f:\n",
    "    text = f.read()         # - 전체 text를 한번에 읽는다.  \n",
    "    text = f.readlines()    # - 한 문장 씩 리스트에 담아서 출력\n",
    "    text = f.readline()     # - 한 문장을 읽는다.\n",
    "    for line as f:          # - 파일 객체를 for를 이용하여 한 문장씩 가져옴\n",
    "        pass\n"
   ]
  }
 ],
 "metadata": {
  "interpreter": {
   "hash": "20f88d9a9a8e4c39652959a456a5b2bd9182bfea2bf41942a40b337260aa2078"
  },
  "kernelspec": {
   "display_name": "Python 3.10.1 64-bit",
   "language": "python",
   "name": "python3"
  },
  "language_info": {
   "codemirror_mode": {
    "name": "ipython",
    "version": 3
   },
   "file_extension": ".py",
   "mimetype": "text/x-python",
   "name": "python",
   "nbconvert_exporter": "python",
   "pygments_lexer": "ipython3",
   "version": "3.10.1"
  },
  "orig_nbformat": 4
 },
 "nbformat": 4,
 "nbformat_minor": 2
}
