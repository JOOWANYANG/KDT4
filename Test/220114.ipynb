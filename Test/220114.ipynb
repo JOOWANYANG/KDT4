{
 "cells": [
  {
   "cell_type": "code",
   "execution_count": 28,
   "metadata": {},
   "outputs": [
    {
     "name": "stdout",
     "output_type": "stream",
     "text": [
      "나이 31, 성별 남\n"
     ]
    }
   ],
   "source": [
    "res_num = input(\"주민번호입력\")\n",
    "\n",
    "birth_year = int(res_num[:2])\n",
    "gender = res_num.split('-')[1][0]\n",
    "\n",
    "age = 2022 - (birth_year + 1900)\n",
    "\n",
    "def to_sex(gender):\n",
    "    if gender == '1':\n",
    "        return '남'\n",
    "    elif gender == '2':\n",
    "        return '여'\n",
    "\n",
    "sex = to_sex(gender)\n",
    "print(\"나이 {}, 성별 {}\".format(age,sex))"
   ]
  },
  {
   "cell_type": "code",
   "execution_count": 36,
   "metadata": {},
   "outputs": [
    {
     "name": "stdout",
     "output_type": "stream",
     "text": [
      "합격\n"
     ]
    }
   ],
   "source": [
    "scores = {'Mary':85, 'Sam':95, 'Bob':87, 'Han':77}\n",
    "# 이름을 입력받은 후 이름이 있으면 80점 이상이면 합격\n",
    "# 이하이면 불합격 을 출력하시오 이름이 없다면 값을 0 으로 하여 추가하시오\n",
    "\n",
    "scores['Mary']\n",
    "\n",
    "nam = input('이름')\n",
    "if nam in scores:\n",
    "    score = scores[nam]\n",
    "    if score >= 80:\n",
    "         print(\"합격\")\n",
    "    else:\n",
    "         print(\"불합격\")\n",
    "else:\n",
    "     scores[nam] = 0\n"
   ]
  },
  {
   "cell_type": "code",
   "execution_count": 50,
   "metadata": {},
   "outputs": [
    {
     "name": "stdout",
     "output_type": "stream",
     "text": [
      "나 가위 , 상대 보 이므로 이겼다\n"
     ]
    }
   ],
   "source": [
    "# 가위 바위 보 게임\n",
    "import random\n",
    "\n",
    "mine = input('mine <= 가위, 바위, 보 중에서 하나선택')\n",
    "yours = random.randint(1, 3)\n",
    "if yours == 1:\n",
    "    yours = '가위'\n",
    "elif yours == 2:\n",
    "    yours = '바위'\n",
    "else:\n",
    "    yours = '보'   \n",
    "# 비김\n",
    "if mine == yours:\n",
    "    print('나 {} , 상대 {} 이므로 비겼다'.format(mine,yours))\n",
    "elif mine == '가위':\n",
    "    if yours == '보':\n",
    "        print('나 {} , 상대 {} 이므로 이겼다'.format(mine,yours))\n",
    "    else:\n",
    "        print('나 {} , 상대 {} 이므로 졌다'.format(mine,yours))\n",
    "elif mine == '바위':\n",
    "    if yours == '가위':\n",
    "        print('승리')\n",
    "    else:\n",
    "        print('패배')\n",
    "elif mine == '보':\n",
    "    if yours == '바위':\n",
    "        print('승리')\n",
    "    else:\n",
    "        print('패배')\n",
    "else:\n",
    "    print(\"유효한 문자열이 아닙니다.\")\n"
   ]
  },
  {
   "cell_type": "code",
   "execution_count": null,
   "metadata": {},
   "outputs": [],
   "source": [
    "# 나이를 입력받은 후, 50대 이상이면 '중년'\n",
    "age = int(input(\"나이 입력\"))\n",
    "if age >= 50:"
   ]
  },
  {
   "cell_type": "code",
   "execution_count": 55,
   "metadata": {},
   "outputs": [
    {
     "ename": "SyntaxError",
     "evalue": "expected ':' (Temp/ipykernel_15244/2622360787.py, line 1)",
     "output_type": "error",
     "traceback": [
      "\u001b[1;36m  File \u001b[1;32m\"C:\\Users\\ruior\\AppData\\Local\\Temp/ipykernel_15244/2622360787.py\"\u001b[1;36m, line \u001b[1;32m1\u001b[0m\n\u001b[1;33m    for x in i range(10):\u001b[0m\n\u001b[1;37m               ^\u001b[0m\n\u001b[1;31mSyntaxError\u001b[0m\u001b[1;31m:\u001b[0m expected ':'\n"
     ]
    }
   ],
   "source": [
    "for x in i range(10):\n",
    "    print(x)"
   ]
  }
 ],
 "metadata": {
  "interpreter": {
   "hash": "20f88d9a9a8e4c39652959a456a5b2bd9182bfea2bf41942a40b337260aa2078"
  },
  "kernelspec": {
   "display_name": "Python 3.10.1 64-bit",
   "language": "python",
   "name": "python3"
  },
  "language_info": {
   "codemirror_mode": {
    "name": "ipython",
    "version": 3
   },
   "file_extension": ".py",
   "mimetype": "text/x-python",
   "name": "python",
   "nbconvert_exporter": "python",
   "pygments_lexer": "ipython3",
   "version": "3.10.1"
  },
  "orig_nbformat": 4
 },
 "nbformat": 4,
 "nbformat_minor": 2
}
