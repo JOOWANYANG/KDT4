{
 "cells": [
  {
   "cell_type": "markdown",
   "metadata": {},
   "source": [
    "# 04 반복문\n",
    "---\n",
    "> ## 리스트 : [ ]\n",
    "> ## 요소 : [ ] 안에 넣는 자료들\n",
    "> ## 인덱스 : [ ] 안의 요소의 위치 (0부터 셈)"
   ]
  },
  {
   "cell_type": "code",
   "execution_count": 13,
   "metadata": {},
   "outputs": [
    {
     "name": "stdout",
     "output_type": "stream",
     "text": [
      "['변경', 32, 103, '문자열', True, False]\n",
      "True\n"
     ]
    },
    {
     "data": {
      "text/plain": [
       "'문'"
      ]
     },
     "execution_count": 13,
     "metadata": {},
     "output_type": "execute_result"
    }
   ],
   "source": [
    "list_A = [ 273, 32, 103, \"문자열\", True, False]\n",
    "list_A[0] = \"변경\"\n",
    "print(list_A)\n",
    "print(list_A[-2])\n",
    "\n",
    "list_A[3][0] # 3번쨰 인덱스에 해댕하는 요소의 인덱스에 다시 0번째를 가리킴\n"
   ]
  },
  {
   "cell_type": "markdown",
   "metadata": {},
   "source": [
    "* 리스트 안에 리스트를 사용할수도 있음"
   ]
  },
  {
   "cell_type": "code",
   "execution_count": 20,
   "metadata": {},
   "outputs": [
    {
     "name": "stdout",
     "output_type": "stream",
     "text": [
      "[4, 5, 6]\n",
      "5\n"
     ]
    }
   ],
   "source": [
    "list_A = [[1, 2, 3], [4, 5, 6], [7, 8, 9]]\n",
    "print(list_A[1])\n",
    "print(list_A[1][1])"
   ]
  },
  {
   "cell_type": "markdown",
   "metadata": {},
   "source": [
    "> ## 리스트 연산자\n",
    "* +(연결)\n",
    "* *(반복)\n",
    "* len()"
   ]
  },
  {
   "cell_type": "code",
   "execution_count": 26,
   "metadata": {},
   "outputs": [
    {
     "name": "stdout",
     "output_type": "stream",
     "text": [
      "list_A = [1, 2, 3]\n",
      "list_B = [4, 5, 6]\n",
      "\n",
      "list_A + list_B = [1, 2, 3, 4, 5, 6]\n",
      "list_A * 3 = [1, 2, 3, 1, 2, 3, 1, 2, 3]\n",
      "\n",
      "len(list_A) = 3\n"
     ]
    }
   ],
   "source": [
    "list_A = [1, 2, 3]\n",
    "list_B = [4 ,5, 6]\n",
    "\n",
    "print(\"list_A =\", list_A)\n",
    "print(\"list_B =\", list_B)\n",
    "print()\n",
    "\n",
    "print(\"list_A + list_B =\", list_A + list_B)\n",
    "print(\"list_A * 3 =\", list_A * 3)\n",
    "print()\n",
    "\n",
    "print(\"len(list_A) =\", len(list_A))"
   ]
  },
  {
   "cell_type": "markdown",
   "metadata": {},
   "source": [
    "> ## append( ) , insert( ) , extend( ) : 리스트에 요소 추가\n",
    "                리스트명.append( 추가할 요소 )\n",
    "                리스트명.insert( 위치, 추가할 요소)\n",
    "                리스트명.extend( 리스트 명 )"
   ]
  },
  {
   "cell_type": "code",
   "execution_count": 34,
   "metadata": {},
   "outputs": [
    {
     "name": "stdout",
     "output_type": "stream",
     "text": [
      "[1, 2, 3, 4, 5]\n",
      "\n",
      "[10, 1, 2, 3, 4, 5]\n",
      "\n",
      "[1, 2, 3, 4, 5, 6]\n",
      "[4, 5, 6]\n"
     ]
    }
   ],
   "source": [
    "# append\n",
    "list_A = [1, 2, 3]\n",
    "list_A.append(4)\n",
    "list_A.append(5)\n",
    "print(list_A)\n",
    "print()\n",
    "\n",
    "# insert\n",
    "list_A.insert(0, 10)\n",
    "print(list_A)\n",
    "print()\n",
    "\n",
    "#extend\n",
    "list_A = [1, 2, 3]\n",
    "list_B = [4, 5 ,6]\n",
    "list_A.extend(list_B)\n",
    "print(list_A) # list_A 에 변화가 생김\n",
    "print(list_B) # list_B 에는 변화 없음\n"
   ]
  },
  {
   "cell_type": "markdown",
   "metadata": {},
   "source": [
    "> ## del, pop, remove ,clear : 리스트에 함수 제거하기\n",
    "                * del 리스트명[인덱스]\n",
    "                * 리스트명.pop[인덱스]   \n",
    "                ----------------------\n",
    "                * 리스트명.remove(값)]\n",
    "                * 리스트명.clear( )"
   ]
  },
  {
   "cell_type": "code",
   "execution_count": 60,
   "metadata": {},
   "outputs": [
    {
     "name": "stdout",
     "output_type": "stream",
     "text": [
      "[0, 2, 3, 4, 5]\n",
      "[0, 1, 2]\n",
      "[0, 1, 3, 4, 5]\n",
      "[0, 1, 3, 4]\n",
      "[1, 1, 2]\n",
      "[]\n"
     ]
    }
   ],
   "source": [
    "# del\n",
    "list_A = [0, 1, 2, 3, 4, 5]\n",
    "del list_A[1] # 인덱스 1이 제거\n",
    "print(list_A)\n",
    "\n",
    "list_B = [0, 1, 2, 3, 4, 5]\n",
    "del list_B[3:6] # 인덱스 3~6 제거\n",
    "print(list_B) \n",
    "\n",
    "# pop\n",
    "list_C = [0, 1, 2, 3, 4, 5]\n",
    "list_C.pop(2) # 인덱스 2 제거\n",
    "print(list_C)\n",
    "\n",
    "list_C.pop() # pop에 아무것도 넣지 않으면 자동으로 -1 처리\n",
    "print(list_C)\n",
    "\n",
    "# remove\n",
    "list_D = [1, 2, 1, 2]\n",
    "list_D.remove(2)\n",
    "print(list_D) # 요소 2 중 제일 앞에있는 2 제거\n",
    "\n",
    "# clear\n",
    "list_E = [0, 1, 2, 3, 4, 5]\n",
    "list_E.clear() # 전부 제거\n",
    "print(list_E) "
   ]
  },
  {
   "cell_type": "markdown",
   "metadata": {},
   "source": [
    "> ## in / not in : 특정 값이 리스트 내부에 있는지 확인할때 사용\n",
    "        * 값 in 리스트명 \n",
    "        * 값 not in 리스트명"
   ]
  },
  {
   "cell_type": "code",
   "execution_count": 70,
   "metadata": {},
   "outputs": [
    {
     "name": "stdout",
     "output_type": "stream",
     "text": [
      "True\n",
      "False\n",
      "\n",
      "False\n",
      "True\n"
     ]
    }
   ],
   "source": [
    "# in \n",
    "list_A = [273, 32, 103, 57, 52]\n",
    "print(273 in list_A)\n",
    "print(99 in list_A)\n",
    "print()\n",
    "\n",
    "# not in\n",
    "print(273 not in list_A)\n",
    "print(99 not in list_A)"
   ]
  },
  {
   "cell_type": "markdown",
   "metadata": {},
   "source": [
    "> ## For 반복문\n",
    "    * for 반복자 in 반복할 수 있는것:\n",
    "                            코드"
   ]
  },
  {
   "cell_type": "code",
   "execution_count": 49,
   "metadata": {},
   "outputs": [
    {
     "name": "stdout",
     "output_type": "stream",
     "text": [
      "출력\n",
      "출력\n",
      "출력\n",
      "출력\n",
      "출력\n",
      "출력\n",
      "출력\n",
      "출력\n",
      "출력\n",
      "출력\n",
      "273\n",
      "32\n",
      "103\n",
      "57\n",
      "52\n",
      "- 안\n",
      "- 녕\n",
      "- 하\n",
      "- 세\n",
      "- 요\n"
     ]
    }
   ],
   "source": [
    "for i in range(10):\n",
    "    print(\"출력\")\n",
    "\n",
    "# 리스트 활용\n",
    "array = [273, 32, 103, 57, 52]\n",
    "for element in array:\n",
    "    print(element)\n",
    "\n",
    "# 문자열 활용\n",
    "for character in \"안녕하세요\":\n",
    "    print(\"-\", character)\n"
   ]
  },
  {
   "cell_type": "markdown",
   "metadata": {},
   "source": [
    "# 확인문제"
   ]
  },
  {
   "cell_type": "code",
   "execution_count": null,
   "metadata": {},
   "outputs": [],
   "source": [
    "# 2\n",
    "numbers = [273, 103, 5, 32, 65, 9, 72, 800, 99]\n",
    "for number in numbers:\n",
    "    if number > 100:\n",
    "        print(\"100 이상의 수 :\", number)"
   ]
  },
  {
   "cell_type": "code",
   "execution_count": null,
   "metadata": {},
   "outputs": [],
   "source": [
    "# 3\n",
    "numbers = [273, 103, 5, 32, 65 ,9 ,72, 800, 99]\n",
    "for number in numbers:\n",
    "    if number % 2 == 1:\n",
    "        print(number, \"는 홀수\")\n",
    "    else:\n",
    "        print(number, \"는 짝수\")\n",
    "print()\n",
    "print()\n",
    "for number in numbers:\n",
    "    if number >= 100:\n",
    "        print(number, \"는 3자리수\")\n",
    "    elif 10 <= number < 100:\n",
    "        print(number, \"는 2자리수\")\n",
    "    else:\n",
    "        print(number, \"는 1자리수\")\n",
    "    "
   ]
  },
  {
   "cell_type": "code",
   "execution_count": null,
   "metadata": {},
   "outputs": [],
   "source": [
    "# 4\n",
    "list_of_list = [\n",
    "    [1,2,3], [4,5,6,7], [8,9]\n",
    "]\n"
   ]
  },
  {
   "cell_type": "code",
   "execution_count": 110,
   "metadata": {},
   "outputs": [
    {
     "name": "stdout",
     "output_type": "stream",
     "text": [
      "[[1, 4, 7], [2, 5, 8], [3, 6, 9]]\n"
     ]
    }
   ],
   "source": [
    "# 5\n",
    "A = [1,2,3,4,5,6,7,8,9]\n",
    "output = [[], [], []]\n",
    "\n",
    "for number in A:\n",
    "    output[(number + 2) % 3 ].append(number)\n",
    "   \n",
    "print(output)"
   ]
  },
  {
   "cell_type": "markdown",
   "metadata": {},
   "source": [
    "# 04-2 딕셔너리와 반복문\n",
    "---\n",
    "> ## 딕셔너리(Dictionary) : 키를 기반으로 값을 저장 = { }\n",
    "        * 리스트 : 인덱스를 기반으로 값을 저장 = [ ]\n",
    "        \n",
    "#### 딕셔너리 선언 :\n",
    "dic = {   \n",
    "        키:값,   \n",
    "        키:값,\n",
    "        ...   \n",
    "}"
   ]
  },
  {
   "cell_type": "code",
   "execution_count": 16,
   "metadata": {},
   "outputs": [
    {
     "name": "stdout",
     "output_type": "stream",
     "text": [
      "name: 7D 건고 망고\n",
      "type: 당절임\n",
      "ingredient: ['망고', '설탕', '메타중아황산나트륨', '치자황색소']\n",
      "origin: 필리핀\n",
      "\n",
      "name: 8D 건조 망고\n"
     ]
    }
   ],
   "source": [
    "# 딕셔너리 선언\n",
    "dic = {\n",
    "    \"name\": \"7D 건고 망고\",\n",
    "    \"type\": \"당절임\",\n",
    "    \"ingredient\": [\"망고\",\"설탕\",\"메타중아황산나트륨\",\"치자황색소\"],\n",
    "    \"origin\": \"필리핀\"\n",
    "}\n",
    "# 출력\n",
    "print(\"name:\", dic[\"name\"])\n",
    "print(\"type:\", dic[\"type\"])\n",
    "print(\"ingredient:\", dic[\"ingredient\"])\n",
    "print(\"origin:\", dic[\"origin\"])\n",
    "print()\n",
    "\n",
    "# 값의 변경\n",
    "dic[\"name\"] = \"8D 건조 망고\"\n",
    "print(\"name:\", dic[\"name\"])"
   ]
  },
  {
   "cell_type": "markdown",
   "metadata": {},
   "source": [
    "> ## 딕셔너리에 값 추가 / 제거\n",
    "        * 딕셔너리[새로운 키] = 새로운 값"
   ]
  },
  {
   "cell_type": "code",
   "execution_count": 77,
   "metadata": {},
   "outputs": [
    {
     "name": "stdout",
     "output_type": "stream",
     "text": [
      "요소 추가 이전: {}\n",
      "요소 추가 이후: {'name': '새로운 이름', 'head': '새로운 정신', 'body': '새로운 몸'}\n"
     ]
    }
   ],
   "source": [
    "# 딕셔너리 추가\n",
    "dic = { }\n",
    "\n",
    "print(\"요소 추가 이전:\", dic)\n",
    "\n",
    "dic[\"name\"] = \"새로운 이름\"\n",
    "dic[\"head\"] = \"새로운 정신\"\n",
    "dic[\"body\"] = \"새로운 몸\"\n",
    "\n",
    "print(\"요소 추가 이후:\", dic)"
   ]
  },
  {
   "cell_type": "code",
   "execution_count": 19,
   "metadata": {},
   "outputs": [
    {
     "name": "stdout",
     "output_type": "stream",
     "text": [
      "요소 제거 이전 {'name': '7D 건조 망고', 'type': '당절임'}\n",
      "요소 제거 이후 {}\n"
     ]
    }
   ],
   "source": [
    "# 딕셔너리 제거\n",
    "dic = {\n",
    "    \"name\":\"7D 건조 망고\",\n",
    "    \"type\":\"당절임\"\n",
    "}\n",
    "\n",
    "print(\"요소 제거 이전\", dic)\n",
    "del dic[\"name\"]\n",
    "del dic[\"type\"]\n",
    "print(\"요소 제거 이후\",dic)"
   ]
  },
  {
   "cell_type": "markdown",
   "metadata": {},
   "source": [
    "> ## in : 딕셔너리 내부에 키가 있는지 확인"
   ]
  },
  {
   "cell_type": "code",
   "execution_count": 25,
   "metadata": {},
   "outputs": [
    {
     "name": "stdout",
     "output_type": "stream",
     "text": [
      "존재하지 않는 키\n"
     ]
    }
   ],
   "source": [
    "# 딕셔너리 선언\n",
    "dic = {\n",
    "    \"name\":\"7D 건조 망고\",\n",
    "    \"type\":\"당절임\",\n",
    "    \"ingredient\":[\"망고\",\"설탕\",\"메타중아황산나트륨\",\"치자황색소\"],\n",
    "    \"origin\":\"필리핀\"\n",
    "}\n",
    "# 입력\n",
    "key = input(\"접근키 :\")\n",
    "# 출력\n",
    "if key in dic:\n",
    "    print(dic[key])\n",
    "else:\n",
    "    print(\"존재하지 않는 키\")"
   ]
  },
  {
   "cell_type": "markdown",
   "metadata": {},
   "source": [
    "> ## get( ) : 딕셔너리의 키로 값을 추출\n",
    "        * 딕셔너리.get( )"
   ]
  },
  {
   "cell_type": "code",
   "execution_count": 30,
   "metadata": {},
   "outputs": [
    {
     "name": "stdout",
     "output_type": "stream",
     "text": [
      "값: 당절임\n"
     ]
    }
   ],
   "source": [
    "# 딕셔너리 선언\n",
    "dic = {\n",
    "    \"name\":\"7D 건조 망고\",\n",
    "    \"type\":\"당절임\",\n",
    "    \"ingredient\": [\"망고\",\"설탕\",\"메타중아황산나트륨\",\"치자황색소\"],\n",
    "    \"origin\":\"필리핀\"\n",
    "}\n",
    "\n",
    "# 존재하지 않는 키 접근\n",
    "value = dic.get(input(\"키입력\"))\n",
    "print(\"값:\",value)\n",
    "\n",
    "# None 확인 방법\n",
    "if value == None:\n",
    "    print(\"존재하지 않는 키에 접근\")\n"
   ]
  },
  {
   "cell_type": "markdown",
   "metadata": {},
   "source": [
    "> ## for 와 딕셔너리 함께 사용하기\n",
    "        * for 키 변수 in 딕셔너리:\n",
    "              코드"
   ]
  },
  {
   "cell_type": "code",
   "execution_count": 51,
   "metadata": {},
   "outputs": [
    {
     "name": "stdout",
     "output_type": "stream",
     "text": [
      "name : 7D 건조 망고\n",
      "type : 당절임\n",
      "ingredient : ['망고', '설탕', '메타중아황산나트륨', '치자황색소']\n",
      "origin : 필리핀\n"
     ]
    }
   ],
   "source": [
    "# 딕셔너리 선언\n",
    "dic = {\n",
    "    \"name\":\"7D 건조 망고\",\n",
    "    \"type\":\"당절임\",\n",
    "    \"ingredient\":[\"망고\",\"설탕\",\"메타중아황산나트륨\",\"치자황색소\"],\n",
    "    \"origin\":\"필리핀\"\n",
    "}\n",
    "\n",
    "# for 반복문 활용\n",
    "for key in dic:\n",
    "    print(key, \":\", dic[key])"
   ]
  },
  {
   "cell_type": "markdown",
   "metadata": {},
   "source": [
    "# 확인문제"
   ]
  },
  {
   "cell_type": "code",
   "execution_count": 40,
   "metadata": {},
   "outputs": [
    {
     "name": "stdout",
     "output_type": "stream",
     "text": [
      "{'name': '구름'}\n",
      "{}\n"
     ]
    }
   ],
   "source": [
    "# 1\n",
    "dict_A = {\n",
    "    \"name\":\"구름\"\n",
    "}\n",
    "print(dict_A)\n",
    "\n",
    "del dict_A[\"name\"]\n",
    "print(dict_A)"
   ]
  },
  {
   "cell_type": "code",
   "execution_count": 59,
   "metadata": {},
   "outputs": [
    {
     "name": "stdout",
     "output_type": "stream",
     "text": [
      "구름 5살\n",
      "초코 3살\n",
      "아지 1살\n",
      "호랑이 1살\n"
     ]
    }
   ],
   "source": [
    "# 2\n",
    "\n",
    "pets = [\n",
    "    {\"name\":\"구름\", \"age\":5},\n",
    "    {\"name\":\"초코\", \"age\":3},\n",
    "    {\"name\":\"아지\", \"age\":1},\n",
    "    {\"name\":\"호랑이\", \"age\":1},\n",
    "    ]\n",
    "\n",
    "for pet in pets:\n",
    "    print(pet[\"name\"], str(pet[\"age\"]) + \"살\")\n"
   ]
  },
  {
   "cell_type": "code",
   "execution_count": 79,
   "metadata": {},
   "outputs": [
    {
     "name": "stdout",
     "output_type": "stream",
     "text": [
      "{1: 5, 2: 4, 3: 3, 4: 2, 5: 1}\n"
     ]
    }
   ],
   "source": [
    "# 3 : numbers 내부에 들어있는 숫자가 몇번 등장하는지를 출력하는 코드를 작성\n",
    "\n",
    "numbers = [1,1,1,1,1,2,2,2,2,3,3,3,4,4,5]\n",
    "counter = {}\n",
    "for number in numbers:\n",
    "    if number in counter:\n",
    "        counter[number] = counter[number] + 1\n",
    "    else:\n",
    "        counter[number] = 1\n",
    "\n",
    "\n",
    "\n",
    "\n",
    "print(counter)\n",
    "\n"
   ]
  },
  {
   "cell_type": "code",
   "execution_count": 83,
   "metadata": {},
   "outputs": [
    {
     "ename": "SyntaxError",
     "evalue": "expression expected after dictionary key and ':' (Temp/ipykernel_22800/154493675.py, line 10)",
     "output_type": "error",
     "traceback": [
      "\u001b[1;36m  File \u001b[1;32m\"C:\\Users\\ruior\\AppData\\Local\\Temp/ipykernel_22800/154493675.py\"\u001b[1;36m, line \u001b[1;32m10\u001b[0m\n\u001b[1;33m    \"level\":\u001b[0m\n\u001b[1;37m           ^\u001b[0m\n\u001b[1;31mSyntaxError\u001b[0m\u001b[1;31m:\u001b[0m expression expected after dictionary key and ':'\n"
     ]
    }
   ],
   "source": [
    "# 4 : 파이썬은 다음과 같은 방법으로 특정값이 어떤 자료형인지 확인할수 있습니다.\n",
    "\n",
    "print(type(\"문자열\") is str)\n",
    "print(type([]) is list)\n",
    "print(type({}) is dict)\n",
    "\n",
    "\n",
    "character = {\n",
    "    \"name\":\"가사\",\n",
    "    \"level\":12,\n",
    "    \"item\":{\n",
    "        \"sword\":\"불꽃의 검\",\n",
    "        \"armor\":\"풀플레이트\"\n",
    "    },\n",
    "    \"skill\":[\"베기\",\"세게 베기\",\"아주 세게 베기\"]\n",
    "}"
   ]
  },
  {
   "cell_type": "markdown",
   "metadata": {},
   "source": [
    "> ## for 반복문\n",
    "        리스트와 범위 조합"
   ]
  },
  {
   "cell_type": "code",
   "execution_count": 10,
   "metadata": {},
   "outputs": [
    {
     "name": "stdout",
     "output_type": "stream",
     "text": [
      "273\n",
      "32\n",
      "103\n",
      "57\n",
      "52\n"
     ]
    }
   ],
   "source": [
    "array = [273,32,103,57,52]\n",
    "for element in array:\n",
    "    print(element)"
   ]
  },
  {
   "cell_type": "markdown",
   "metadata": {},
   "source": [
    "> ### range( ) : for 와 같이 사용되는 범위 자료형\n",
    "            for i in range():\n",
    "                    코드"
   ]
  },
  {
   "cell_type": "code",
   "execution_count": 19,
   "metadata": {},
   "outputs": [
    {
     "name": "stdout",
     "output_type": "stream",
     "text": [
      "0 = 반복 변수\n",
      "1 = 반복 변수\n",
      "2 = 반복 변수\n",
      "3 = 반복 변수\n",
      "4 = 반복 변수\n",
      "\n",
      "5 = 반복 변수\n",
      "6 = 반복 변수\n",
      "7 = 반복 변수\n",
      "8 = 반복 변수\n",
      "9 = 반복 변수\n",
      "\n",
      "0 = 반복 변수\n",
      "3 = 반복 변수\n",
      "6 = 반복 변수\n",
      "9 = 반복 변수\n"
     ]
    }
   ],
   "source": [
    "# 0 ~ m-1 까지\n",
    "for i in range(5):\n",
    "    print(str(i) + \" = 반복 변수\")\n",
    "print()\n",
    "\n",
    "# 범위지정 (n, m) : n ~ m-1 까지\n",
    "for i in range(5, 10):\n",
    "    print(str(i) + \" = 반복 변수\")\n",
    "print()\n",
    "\n",
    "\n",
    "# 배수 범위 지정 (n, m, k) : n ~ m-1 까지 k의 배수\n",
    "for i in range(0 , 10 , 3):\n",
    "    print(str(i) + \" = 반복 변수\")"
   ]
  },
  {
   "cell_type": "code",
   "execution_count": 13,
   "metadata": {},
   "outputs": [
    {
     "name": "stdout",
     "output_type": "stream",
     "text": [
      "0번째 반복: 273\n",
      "1번째 반복: 32\n",
      "2번째 반복: 103\n",
      "3번째 반복: 57\n",
      "4번째 반복: 52\n"
     ]
    }
   ],
   "source": [
    "array = [273, 32, 103, 57, 52]\n",
    "\n",
    "for i in range(len(array)):\n",
    "    print(\"{}번째 반복: {}\".format(i, array[i]))"
   ]
  },
  {
   "cell_type": "markdown",
   "metadata": {},
   "source": [
    "> ### 반대로 반복\n",
    "        * 0 - 1 수식 넣기\n",
    "        * reversed() 함수 사용"
   ]
  },
  {
   "cell_type": "code",
   "execution_count": 16,
   "metadata": {},
   "outputs": [
    {
     "name": "stdout",
     "output_type": "stream",
     "text": [
      "현재 반복 변수: 4\n",
      "현재 반복 변수: 3\n",
      "현재 반복 변수: 2\n",
      "현재 반복 변수: 1\n",
      "현재 반복 변수: 0\n",
      "\n",
      "현재 반복 변수: 4\n",
      "현재 반복 변수: 3\n",
      "현재 반복 변수: 2\n",
      "현재 반복 변수: 1\n",
      "현재 반복 변수: 0\n"
     ]
    }
   ],
   "source": [
    "# 0 - 1 수식\n",
    "for i in range(4, 0 - 1, -1):\n",
    "    print(\"현재 반복 변수: {}\".format(i))\n",
    "print()\n",
    "# reversed() 함수\n",
    "for i in reversed(range(5)):\n",
    "    print(\"현재 반복 변수: {}\".format(i))"
   ]
  },
  {
   "cell_type": "markdown",
   "metadata": {},
   "source": [
    "> ## While 반복문 : 무한반복 가능\n",
    "        while 불 표현식:\n",
    "                문장"
   ]
  },
  {
   "cell_type": "code",
   "execution_count": null,
   "metadata": {},
   "outputs": [],
   "source": [
    "while True:\n",
    "    print(\".\", end=\"\") # . 이 무한반복됨    "
   ]
  },
  {
   "cell_type": "markdown",
   "metadata": {},
   "source": [
    "> for 반복문처럼 사용하기"
   ]
  },
  {
   "cell_type": "code",
   "execution_count": 2,
   "metadata": {},
   "outputs": [
    {
     "name": "stdout",
     "output_type": "stream",
     "text": [
      "0번째 반복입니다.\n",
      "1번째 반복입니다.\n",
      "2번째 반복입니다.\n",
      "3번째 반복입니다.\n",
      "4번째 반복입니다.\n",
      "5번째 반복입니다.\n",
      "6번째 반복입니다.\n",
      "7번째 반복입니다.\n",
      "8번째 반복입니다.\n",
      "9번째 반복입니다.\n"
     ]
    }
   ],
   "source": [
    "i = 0\n",
    "while i < 10:\n",
    "    print(\"{}번째 반복입니다.\".format(i))\n",
    "    i += 1"
   ]
  },
  {
   "cell_type": "markdown",
   "metadata": {},
   "source": [
    "> remove() 함수와 사용하기 : 상태를 기반으로 반복하기"
   ]
  },
  {
   "cell_type": "code",
   "execution_count": 4,
   "metadata": {},
   "outputs": [
    {
     "name": "stdout",
     "output_type": "stream",
     "text": [
      "[1, 1]\n"
     ]
    }
   ],
   "source": [
    "list_test = [1, 2, 1, 2]\n",
    "value = 2\n",
    "\n",
    "while value in list_test: # 리스트 내부에 있는 2 (value) 가 모두 제거될 떄까지 반복\n",
    "    list_test.remove(value)\n",
    "\n",
    "print(list_test)"
   ]
  },
  {
   "cell_type": "markdown",
   "metadata": {},
   "source": [
    "> 시간을 기반으로 반복하기"
   ]
  },
  {
   "cell_type": "code",
   "execution_count": 6,
   "metadata": {},
   "outputs": [
    {
     "name": "stdout",
     "output_type": "stream",
     "text": [
      "5초 동안 11561306번 반복했습니다\n"
     ]
    }
   ],
   "source": [
    "import time\n",
    "\n",
    "number = 0\n",
    "target_tick = time.time() + 5\n",
    "while time.time() < target_tick:\n",
    "    number += 1\n",
    "\n",
    "print(\"5초 동안 {}번 반복했습니다\".format(number))"
   ]
  },
  {
   "cell_type": "markdown",
   "metadata": {},
   "source": [
    "> break : 반복문에서 벗어나기"
   ]
  },
  {
   "cell_type": "code",
   "execution_count": null,
   "metadata": {},
   "outputs": [],
   "source": [
    "i = 0\n",
    "while True:\n",
    "    print(\"{}번째 반복문입니다.\".format(i))\n",
    "    i = i + 1\n",
    "    input_text = input(\"종료하사겠습니까?(y/n): \")\n",
    "    if input_text in [\"y\",\"Y\"]:\n",
    "        print(\"반복을 종료합니다.\")\n",
    "        break"
   ]
  },
  {
   "cell_type": "markdown",
   "metadata": {},
   "source": [
    "> continue : 현재 반복을 생략하고 넘어가기"
   ]
  },
  {
   "cell_type": "code",
   "execution_count": 11,
   "metadata": {},
   "outputs": [
    {
     "name": "stdout",
     "output_type": "stream",
     "text": [
      "15\n",
      "20\n",
      "25\n"
     ]
    }
   ],
   "source": [
    "numbers = [5, 15, 6, 20, 7, 25]\n",
    "for i in numbers:\n",
    "    if i < 10:\n",
    "        continue\n",
    "    print(i)"
   ]
  },
  {
   "cell_type": "markdown",
   "metadata": {},
   "source": [
    "> ## 04-4 문자열 리스트딕셔너리와 관련된 기본 함수\n",
    "* min() , max() , sum() : 리스트 내부에 있는 값들 중 최소, 최대, 총합을 알려줌"
   ]
  },
  {
   "cell_type": "code",
   "execution_count": 4,
   "metadata": {},
   "outputs": [
    {
     "name": "stdout",
     "output_type": "stream",
     "text": [
      "1\n",
      "5\n",
      "15\n"
     ]
    }
   ],
   "source": [
    "numbers = [1, 2, 3, 4, 5]\n",
    "print(min(numbers))\n",
    "print(max(numbers))\n",
    "print(sum(numbers))"
   ]
  },
  {
   "cell_type": "markdown",
   "metadata": {},
   "source": [
    "> reversed() : 리스트 요소 뒤집기"
   ]
  },
  {
   "cell_type": "code",
   "execution_count": 14,
   "metadata": {},
   "outputs": [
    {
     "name": "stdout",
     "output_type": "stream",
     "text": [
      "[1, 2, 3, 4, 5]\n",
      "<list_reverseiterator object at 0x000001349D20C430>\n",
      "[5, 4, 3, 2, 1]\n",
      "\n",
      "1\n",
      "2\n",
      "3\n",
      "4\n",
      "5\n",
      "\n",
      "5\n",
      "4\n",
      "3\n",
      "2\n",
      "1\n"
     ]
    }
   ],
   "source": [
    "list_a = [1, 2, 3, 4, 5]\n",
    "list_reversed = reversed(list_a)\n",
    "print(list(list_a))\n",
    "print(list_reversed)\n",
    "print(list(list_reversed))\n",
    "print()\n",
    "\n",
    "for i in list_a:\n",
    "    print(i)\n",
    "print()\n",
    "for i in reversed(list_a):\n",
    "    print(i)"
   ]
  },
  {
   "cell_type": "markdown",
   "metadata": {},
   "source": [
    "> 제너레이터 ?"
   ]
  },
  {
   "cell_type": "code",
   "execution_count": 23,
   "metadata": {},
   "outputs": [
    {
     "name": "stdout",
     "output_type": "stream",
     "text": [
      "첫번째: 5\n",
      "첫번째: 4\n",
      "첫번째: 3\n",
      "첫번째: 2\n",
      "첫번째: 1\n",
      "\n",
      "첫번째: 5\n",
      "첫번째: 4\n",
      "첫번째: 3\n",
      "첫번째: 2\n",
      "첫번째: 1\n",
      "두번째: 5\n",
      "두번째: 4\n",
      "두번째: 3\n",
      "두번째: 2\n",
      "두번째: 1\n"
     ]
    }
   ],
   "source": [
    "temp = reversed([1, 2, 3, 4, 5])\n",
    "\n",
    "for i in temp:\n",
    "    print(\"첫번째: {}\".format(i))\n",
    "for i in temp:\n",
    "    print(\"두번째: {}\".format(i))\n",
    "\n",
    "# 이떄는 왜 두번째 반복문이 출력이 안될까?\n",
    "\n",
    "print()\n",
    "numbers = [1, 2, 3, 4, 5]\n",
    "\n",
    "for i in reversed(numbers):\n",
    "    print(\"첫번째: {}\".format(i))\n",
    "for i in reversed(numbers):\n",
    "    print(\"두번째: {}\".format(i))\n",
    "\n",
    "# reversed()의 리턴값이 제너레이터 여서 그런것\n",
    "# revsered()와 반복문을 조합할 때는 for 구문 내부에 reversed() 함수를 곧바로 조합하여 사용해야 함"
   ]
  },
  {
   "cell_type": "markdown",
   "metadata": {},
   "source": [
    "> 확장 슬라이싱 : [::-1]\n",
    "* [리스트][::-1] 의 형태로 사용 , 비파괴적"
   ]
  },
  {
   "cell_type": "code",
   "execution_count": 26,
   "metadata": {},
   "outputs": [
    {
     "name": "stdout",
     "output_type": "stream",
     "text": [
      "[1, 2, 3, 4, 5]\n",
      "[5, 4, 3, 2, 1]\n",
      "[1, 2, 3, 4, 5]\n"
     ]
    }
   ],
   "source": [
    "numbers = [1, 2, 3, 4, 5]\n",
    "print(numbers)\n",
    "print(numbers[::-1])\n",
    "print(numbers)\n",
    " "
   ]
  },
  {
   "cell_type": "markdown",
   "metadata": {},
   "source": [
    "> enumerate() 와 반복문 조합하기   \n",
    "* for i , value in enmuerat() 형태로 사용"
   ]
  },
  {
   "cell_type": "code",
   "execution_count": 38,
   "metadata": {},
   "outputs": [
    {
     "name": "stdout",
     "output_type": "stream",
     "text": [
      "단순출력\n",
      "['요소A', '요소B', '요소C']\n",
      "\n",
      "<enumerate object at 0x000001349DF0AA40>\n",
      "\n",
      "[(0, '요소A'), (1, '요소B'), (2, '요소C')]\n",
      "\n",
      "0번쨰 요소는 요소A입니다.\n",
      "1번쨰 요소는 요소B입니다.\n",
      "2번쨰 요소는 요소C입니다.\n"
     ]
    }
   ],
   "source": [
    "# 변수를 선언\n",
    "example_list = [\"요소A\", \"요소B\", \"요소C\"]\n",
    "\n",
    "# 출력\n",
    "print(\"단순출력\")\n",
    "print(example_list)\n",
    "print()\n",
    "\n",
    "# enumnerate() 적용\n",
    "print(enumerate(example_list))\n",
    "print()\n",
    "\n",
    "# list() 적용\n",
    "print(list(enumerate(example_list)))\n",
    "print()\n",
    "\n",
    "# for 반복문\n",
    "for i, value in enumerate(example_list):\n",
    "    print(\"{}번쨰 요소는 {}입니다.\".format(i, value))"
   ]
  },
  {
   "cell_type": "markdown",
   "metadata": {},
   "source": [
    "> items( )"
   ]
  },
  {
   "cell_type": "code",
   "execution_count": 42,
   "metadata": {},
   "outputs": [
    {
     "name": "stdout",
     "output_type": "stream",
     "text": [
      "item() :  dict_items([('키A', '값A'), ('키B', '값B'), ('키C', '값C')])\n",
      "\n",
      "dictionary[키A] = 값A\n",
      "dictionary[키B] = 값B\n",
      "dictionary[키C] = 값C\n"
     ]
    }
   ],
   "source": [
    "# 변수를 선언\n",
    "example_dictionary = {\n",
    "    \"키A\":\"값A\",\n",
    "    \"키B\":\"값B\",\n",
    "    \"키C\":\"값C\",\n",
    "\n",
    "}\n",
    "\n",
    "# item( )\n",
    "print(\"item() : \", example_dictionary.items())\n",
    "print()\n",
    "\n",
    "# 반복문과 조합\n",
    "for key , element in example_dictionary.items():\n",
    "    print(\"dictionary[{}] = {}\".format(key, element))"
   ]
  },
  {
   "cell_type": "markdown",
   "metadata": {},
   "source": [
    "> 리스트 내포   \n",
    "* 리스트 이름 = [표현식 for 반복자 in 반복할 수 있는것]"
   ]
  },
  {
   "cell_type": "code",
   "execution_count": 43,
   "metadata": {},
   "outputs": [
    {
     "name": "stdout",
     "output_type": "stream",
     "text": [
      "[0, 4, 16, 36, 64, 100, 144, 196, 256, 324]\n"
     ]
    }
   ],
   "source": [
    "# 변수 선언\n",
    "array = []\n",
    "\n",
    "# 반복문 적용\n",
    "for i in range(0, 20, 2):\n",
    "    array.append(i * i) # 0 2의제곱 4의제곱 6에제곱 ...\n",
    "\n",
    "print(array)"
   ]
  },
  {
   "cell_type": "code",
   "execution_count": 44,
   "metadata": {},
   "outputs": [
    {
     "name": "stdout",
     "output_type": "stream",
     "text": [
      "[0, 4, 16, 36, 64, 100, 144, 196, 256, 324]\n"
     ]
    }
   ],
   "source": [
    "# 리스트 선언\n",
    "array = [i * i for i in range(0, 20, 2)]\n",
    "\n",
    "# 출력\n",
    "print(array)"
   ]
  },
  {
   "cell_type": "markdown",
   "metadata": {},
   "source": [
    "리스트 이름 = [표현식 for 반복자 in 반복할 수 있는것 if 조건문]"
   ]
  },
  {
   "cell_type": "code",
   "execution_count": 56,
   "metadata": {},
   "outputs": [
    {
     "name": "stdout",
     "output_type": "stream",
     "text": [
      "['사과', '자두', ' 초콜릿', '바나나', '체리']\n"
     ]
    }
   ],
   "source": [
    "# 리스트 선언\n",
    "array = [\"사과\", \"자두\", \" 초콜릿\", \"바나나\", \"체리\"]\n",
    "\n",
    "# if 구문을 넣어 조합\n",
    "output = [fruit for fruit in arra00y \n",
    "if fruit != \"초콜릿\"]\n",
    "print(output)"
   ]
  },
  {
   "cell_type": "markdown",
   "metadata": {},
   "source": [
    "> 구문 내부에 여러 줄 문자열을 사용했을 때의 문제점"
   ]
  },
  {
   "cell_type": "code",
   "execution_count": 68,
   "metadata": {},
   "outputs": [
    {
     "name": "stdout",
     "output_type": "stream",
     "text": [
      "        입력한 문자열은12입니다.\n",
      "    12은(는) 짝수입니다.\n"
     ]
    }
   ],
   "source": [
    "number = int(input(\"정수 입력\"))\n",
    "\n",
    "# if 조건문으로 홀짝을 구별\n",
    "if number % 2 == 0:\n",
    "    print(\"\"\"\\\n",
    "        입력한 문자열은{}입니다.\n",
    "    {}은(는) 짝수입니다.\"\"\".format(number, number))\n",
    "else:\n",
    "    print(\"\"\"\\\n",
    "        입력한 문자열은 {}입니다.\n",
    "        {}는(은) 홀수입니다.\"\"\".format(number, number))"
   ]
  },
  {
   "cell_type": "markdown",
   "metadata": {},
   "source": [
    "* 결과값의 앞에 띄어쓰기가 들어감"
   ]
  },
  {
   "cell_type": "code",
   "execution_count": 69,
   "metadata": {},
   "outputs": [
    {
     "name": "stdout",
     "output_type": "stream",
     "text": [
      "입력한 문자열은 10입니다.\n",
      "10은(는) 짝수입니다.\n"
     ]
    }
   ],
   "source": [
    "number = int(input(\"정수 입력\"))\n",
    "\n",
    "# if 조건문으로 홀짝을 구별\n",
    "if number % 2 == 0:\n",
    "    print(\"\"\"입력한 문자열은 {}입니다.\n",
    "{}은(는) 짝수입니다.\"\"\".format(number, number))\n",
    "else:\n",
    "    print(\"\"\"입력한 문자열은 {}입니다.\n",
    "{}은(는) 홀수입니다.\"\"\".format(nmuber, number))"
   ]
  },
  {
   "cell_type": "markdown",
   "metadata": {},
   "source": [
    "> if 조건문과 긴 문자열 해결 : \\n"
   ]
  },
  {
   "cell_type": "code",
   "execution_count": 70,
   "metadata": {},
   "outputs": [
    {
     "name": "stdout",
     "output_type": "stream",
     "text": [
      "입력한 문자열은 12입니다.\n",
      "12는(은) 짝수입니다.\n"
     ]
    }
   ],
   "source": [
    "number = int(input(\"정수 입력\"))\n",
    "\n",
    "# if 조건문으로 홀짝 구별\n",
    "if number % 2 == 0:\n",
    "    print(\"입력한 문자열은 {}입니다.\\n{}는(은) 짝수입니다.\".format(number, number))\n",
    "else:\n",
    "    print(\"입력한 문자열은 {}입니다.\\n{}는(은) 홀수입니다.\".format(number, number))"
   ]
  },
  {
   "cell_type": "markdown",
   "metadata": {},
   "source": [
    "> 괄호로 문자열 연결하기"
   ]
  },
  {
   "cell_type": "code",
   "execution_count": 71,
   "metadata": {},
   "outputs": [
    {
     "name": "stdout",
     "output_type": "stream",
     "text": [
      "입력한 문자열은 12입니다.\n",
      "12은(는) 짝수입니다\n"
     ]
    }
   ],
   "source": [
    "number = int(input(\"정수 입력\"))\n",
    "\n",
    "# if 조건문으로 홀짝 구별\n",
    "if number % 2 == 0:\n",
    "    print((\n",
    "        \"입력한 문자열은 {}입니다.\\n\"\n",
    "        \"{}은(는) 짝수입니다\")\n",
    "        .format(number, number))\n",
    "else:\n",
    "    print((\n",
    "        \"입력한 문자열은 {}입니다.\\n\"\n",
    "        \"{}은(는) 홀수입니다\")\n",
    "        .format(number, number))"
   ]
  },
  {
   "cell_type": "markdown",
   "metadata": {},
   "source": [
    "> joit()\n",
    "* 문자열.join(문자열로 구성된 리스트)"
   ]
  },
  {
   "cell_type": "code",
   "execution_count": 74,
   "metadata": {},
   "outputs": [
    {
     "name": "stdout",
     "output_type": "stream",
     "text": [
      "입력한 문자열은 12입니다.12는(은) 짝수입니다\n"
     ]
    }
   ],
   "source": [
    "number = int(input(\"정수 입력\"))\n",
    "\n",
    "# if 조건문으로 홀짝 구별\n",
    "if number % 2 == 0:\n",
    "    print(\"\\n\".join([\n",
    "        \"입력한 문자열은 {}입니다.\"\n",
    "        \"{}는(은) 짝수입니다\"\n",
    "    ]).format(number, number))\n",
    "else:\n",
    "    print(\"\\n\".join([\n",
    "        \"입력한 문자열은 {}입니다.\"\n",
    "        \"{}는(은) 홀수입니다\"\n",
    "    ]).format(number, number))"
   ]
  },
  {
   "cell_type": "markdown",
   "metadata": {},
   "source": [
    "> ## 이터레이터\n",
    "* 이터러블 : 반복할 수 있는것 = 리스트 , 딕셔너리 , 문자열 튜플 등.."
   ]
  },
  {
   "cell_type": "markdown",
   "metadata": {},
   "source": [
    "> next()"
   ]
  },
  {
   "cell_type": "code",
   "execution_count": 79,
   "metadata": {},
   "outputs": [
    {
     "name": "stdout",
     "output_type": "stream",
     "text": [
      "reversed_numbers : <list_reverseiterator object at 0x000001349DF284F0>\n",
      "6\n",
      "5\n",
      "4\n",
      "3\n",
      "2\n"
     ]
    }
   ],
   "source": [
    "numbers = [1, 2, 3, 4, 5, 6]\n",
    "r_num = reversed(numbers)\n",
    "\n",
    "print(\"reversed_numbers :\", r_num)\n",
    "print(next(r_num))\n",
    "print(next(r_num))\n",
    "print(next(r_num))\n",
    "print(next(r_num))\n",
    "print(next(r_num))"
   ]
  },
  {
   "cell_type": "code",
   "execution_count": 92,
   "metadata": {},
   "outputs": [
    {
     "name": "stdout",
     "output_type": "stream",
     "text": [
      "1010\n",
      "10\n",
      "12\n",
      "10\n",
      "a\n",
      "16\n",
      "2\n"
     ]
    }
   ],
   "source": [
    "print(\"{:b}\".format(10))\n",
    "print(int(\"1010\", 2))\n",
    "print(\"{:o}\".format(10))\n",
    "print(int(\"12\", 8))\n",
    "print(\"{:x}\".format(10))\n",
    "print(int(\"10\", 16))\n",
    "print(\"안녕안녕하세요\".count(\"안\"))"
   ]
  },
  {
   "cell_type": "code",
   "execution_count": 96,
   "metadata": {},
   "outputs": [
    {
     "name": "stdout",
     "output_type": "stream",
     "text": [
      "2 : 10\n",
      "5 : 101\n",
      "6 : 110\n",
      "11 : 1011\n",
      "13 : 1101\n",
      "14 : 1110\n",
      "23 : 10111\n",
      "27 : 11011\n",
      "29 : 11101\n",
      "30 : 11110\n",
      "47 : 101111\n",
      "55 : 110111\n",
      "59 : 111011\n",
      "61 : 111101\n",
      "62 : 111110\n",
      "95 : 1011111\n",
      "합계 : 539\n"
     ]
    }
   ],
   "source": [
    "# 연습문제\n",
    "\n",
    "output = [i for i in range(1, 100 + 1)\n",
    "    if \"{:b}\".format(i).count(\"0\") == 1]\n",
    "\n",
    "for i in output: \n",
    "    print(\"{} : {}\".format(i, \"{:b}\".format(i)))\n",
    "print(\"합계 :\", sum(output))"
   ]
  }
 ],
 "metadata": {
  "interpreter": {
   "hash": "20f88d9a9a8e4c39652959a456a5b2bd9182bfea2bf41942a40b337260aa2078"
  },
  "kernelspec": {
   "display_name": "Python 3.10.1 64-bit",
   "language": "python",
   "name": "python3"
  },
  "language_info": {
   "codemirror_mode": {
    "name": "ipython",
    "version": 3
   },
   "file_extension": ".py",
   "mimetype": "text/x-python",
   "name": "python",
   "nbconvert_exporter": "python",
   "pygments_lexer": "ipython3",
   "version": "3.10.1"
  },
  "orig_nbformat": 4
 },
 "nbformat": 4,
 "nbformat_minor": 2
}
