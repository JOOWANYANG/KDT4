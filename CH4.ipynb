{
 "cells": [
  {
   "cell_type": "markdown",
   "metadata": {},
   "source": [
    "# 04 반복문\n",
    "---\n",
    "> ## 리스트 : [ ]\n",
    "> ## 요소 : [ ] 안에 넣는 자료들\n",
    "> ## 인덱스 : [ ] 안의 요소의 위치 (0부터 셈)"
   ]
  },
  {
   "cell_type": "code",
   "execution_count": 13,
   "metadata": {},
   "outputs": [
    {
     "name": "stdout",
     "output_type": "stream",
     "text": [
      "['변경', 32, 103, '문자열', True, False]\n",
      "True\n"
     ]
    },
    {
     "data": {
      "text/plain": [
       "'문'"
      ]
     },
     "execution_count": 13,
     "metadata": {},
     "output_type": "execute_result"
    }
   ],
   "source": [
    "list_A = [ 273, 32, 103, \"문자열\", True, False]\n",
    "list_A[0] = \"변경\"\n",
    "print(list_A)\n",
    "print(list_A[-2])\n",
    "\n",
    "list_A[3][0] # 3번쨰 인덱스에 해댕하는 요소의 인덱스에 다시 0번째를 가리킴\n"
   ]
  },
  {
   "cell_type": "markdown",
   "metadata": {},
   "source": [
    "* 리스트 안에 리스트를 사용할수도 있음"
   ]
  },
  {
   "cell_type": "code",
   "execution_count": 20,
   "metadata": {},
   "outputs": [
    {
     "name": "stdout",
     "output_type": "stream",
     "text": [
      "[4, 5, 6]\n",
      "5\n"
     ]
    }
   ],
   "source": [
    "list_A = [[1, 2, 3], [4, 5, 6], [7, 8, 9]]\n",
    "print(list_A[1])\n",
    "print(list_A[1][1])"
   ]
  },
  {
   "cell_type": "markdown",
   "metadata": {},
   "source": [
    "> ## 리스트 연산자\n",
    "* +(연결)\n",
    "* *(반복)\n",
    "* len()"
   ]
  },
  {
   "cell_type": "code",
   "execution_count": 26,
   "metadata": {},
   "outputs": [
    {
     "name": "stdout",
     "output_type": "stream",
     "text": [
      "list_A = [1, 2, 3]\n",
      "list_B = [4, 5, 6]\n",
      "\n",
      "list_A + list_B = [1, 2, 3, 4, 5, 6]\n",
      "list_A * 3 = [1, 2, 3, 1, 2, 3, 1, 2, 3]\n",
      "\n",
      "len(list_A) = 3\n"
     ]
    }
   ],
   "source": [
    "list_A = [1, 2, 3]\n",
    "list_B = [4 ,5, 6]\n",
    "\n",
    "print(\"list_A =\", list_A)\n",
    "print(\"list_B =\", list_B)\n",
    "print()\n",
    "\n",
    "print(\"list_A + list_B =\", list_A + list_B)\n",
    "print(\"list_A * 3 =\", list_A * 3)\n",
    "print()\n",
    "\n",
    "print(\"len(list_A) =\", len(list_A))"
   ]
  },
  {
   "cell_type": "markdown",
   "metadata": {},
   "source": [
    "> ## append( ) , insert( ) , extend( ) : 리스트에 요소 추가\n",
    "                리스트명.append( 추가할 요소 )\n",
    "                리스트명.insert( 위치, 추가할 요소)\n",
    "                리스트명.extend( 리스트 명 )"
   ]
  },
  {
   "cell_type": "code",
   "execution_count": 34,
   "metadata": {},
   "outputs": [
    {
     "name": "stdout",
     "output_type": "stream",
     "text": [
      "[1, 2, 3, 4, 5]\n",
      "\n",
      "[10, 1, 2, 3, 4, 5]\n",
      "\n",
      "[1, 2, 3, 4, 5, 6]\n",
      "[4, 5, 6]\n"
     ]
    }
   ],
   "source": [
    "# append\n",
    "list_A = [1, 2, 3]\n",
    "list_A.append(4)\n",
    "list_A.append(5)\n",
    "print(list_A)\n",
    "print()\n",
    "\n",
    "# insert\n",
    "list_A.insert(0, 10)\n",
    "print(list_A)\n",
    "print()\n",
    "\n",
    "#extend\n",
    "list_A = [1, 2, 3]\n",
    "list_B = [4, 5 ,6]\n",
    "list_A.extend(list_B)\n",
    "print(list_A) # list_A 에 변화가 생김\n",
    "print(list_B) # list_B 에는 변화 없음\n"
   ]
  },
  {
   "cell_type": "markdown",
   "metadata": {},
   "source": [
    "> ## del, pop, remove ,clear : 리스트에 함수 제거하기\n",
    "                * del 리스트명[인덱스]\n",
    "                * 리스트명.pop[인덱스]   \n",
    "                ----------------------\n",
    "                * 리스트명.remove(값)]\n",
    "                * 리스트명.clear( )"
   ]
  },
  {
   "cell_type": "code",
   "execution_count": 60,
   "metadata": {},
   "outputs": [
    {
     "name": "stdout",
     "output_type": "stream",
     "text": [
      "[0, 2, 3, 4, 5]\n",
      "[0, 1, 2]\n",
      "[0, 1, 3, 4, 5]\n",
      "[0, 1, 3, 4]\n",
      "[1, 1, 2]\n",
      "[]\n"
     ]
    }
   ],
   "source": [
    "# del\n",
    "list_A = [0, 1, 2, 3, 4, 5]\n",
    "del list_A[1] # 인덱스 1이 제거\n",
    "print(list_A)\n",
    "\n",
    "list_B = [0, 1, 2, 3, 4, 5]\n",
    "del list_B[3:6] # 인덱스 3~6 제거\n",
    "print(list_B) \n",
    "\n",
    "# pop\n",
    "list_C = [0, 1, 2, 3, 4, 5]\n",
    "list_C.pop(2) # 인덱스 2 제거\n",
    "print(list_C)\n",
    "\n",
    "list_C.pop() # pop에 아무것도 넣지 않으면 자동으로 -1 처리\n",
    "print(list_C)\n",
    "\n",
    "# remove\n",
    "list_D = [1, 2, 1, 2]\n",
    "list_D.remove(2)\n",
    "print(list_D) # 요소 2 중 제일 앞에있는 2 제거\n",
    "\n",
    "# clear\n",
    "list_E = [0, 1, 2, 3, 4, 5]\n",
    "list_E.clear() # 전부 제거\n",
    "print(list_E) "
   ]
  },
  {
   "cell_type": "markdown",
   "metadata": {},
   "source": [
    "> ## in / not in : 특정 값이 리스트 내부에 있는지 확인할때 사용\n",
    "        * 값 in 리스트명 \n",
    "        * 값 not in 리스트명"
   ]
  },
  {
   "cell_type": "code",
   "execution_count": 70,
   "metadata": {},
   "outputs": [
    {
     "name": "stdout",
     "output_type": "stream",
     "text": [
      "True\n",
      "False\n",
      "\n",
      "False\n",
      "True\n"
     ]
    }
   ],
   "source": [
    "# in \n",
    "list_A = [273, 32, 103, 57, 52]\n",
    "print(273 in list_A)\n",
    "print(99 in list_A)\n",
    "print()\n",
    "\n",
    "# not in\n",
    "print(273 not in list_A)\n",
    "print(99 not in list_A)"
   ]
  },
  {
   "cell_type": "markdown",
   "metadata": {},
   "source": [
    "> ## For 반복문\n",
    "    * for 반복자 in 반복할 수 있는것:\n",
    "                            코드"
   ]
  },
  {
   "cell_type": "code",
   "execution_count": null,
   "metadata": {},
   "outputs": [],
   "source": [
    "for i in range(10):\n",
    "    print(\"출력\")\n",
    "\n",
    "# 리스트 활용\n",
    "array = [273, 32, 103, 57, 52]\n",
    "for element in array:\n",
    "    print(element)\n",
    "\n",
    "# 문자열 활용\n",
    "for character in \"안녕하세요\":\n",
    "    print(\"-\", character)\n"
   ]
  },
  {
   "cell_type": "markdown",
   "metadata": {},
   "source": [
    "# 확인문제"
   ]
  },
  {
   "cell_type": "code",
   "execution_count": null,
   "metadata": {},
   "outputs": [],
   "source": [
    "# 2\n",
    "numbers = [273, 103, 5, 32, 65, 9, 72, 800, 99]\n",
    "for number in numbers:\n",
    "    if number > 100:\n",
    "        print(\"100 이상의 수 :\", number)"
   ]
  },
  {
   "cell_type": "code",
   "execution_count": null,
   "metadata": {},
   "outputs": [],
   "source": [
    "# 3\n",
    "numbers = [273, 103, 5, 32, 65 ,9 ,72, 800, 99]\n",
    "for number in numbers:\n",
    "    if number % 2 == 1:\n",
    "        print(number, \"는 홀수\")\n",
    "    else:\n",
    "        print(number, \"는 짝수\")\n",
    "print()\n",
    "print()\n",
    "for number in numbers:\n",
    "    if number >= 100:\n",
    "        print(number, \"는 3자리수\")\n",
    "    elif 10 <= number < 100:\n",
    "        print(number, \"는 2자리수\")\n",
    "    else:\n",
    "        print(number, \"는 1자리수\")\n",
    "    "
   ]
  },
  {
   "cell_type": "code",
   "execution_count": null,
   "metadata": {},
   "outputs": [],
   "source": [
    "# 4\n",
    "list_of_list = [\n",
    "    [1,2,3], [4,5,6,7], [8,9]\n",
    "]\n"
   ]
  },
  {
   "cell_type": "code",
   "execution_count": 110,
   "metadata": {},
   "outputs": [
    {
     "name": "stdout",
     "output_type": "stream",
     "text": [
      "[[1, 4, 7], [2, 5, 8], [3, 6, 9]]\n"
     ]
    }
   ],
   "source": [
    "# 5\n",
    "A = [1,2,3,4,5,6,7,8,9]\n",
    "output = [[], [], []]\n",
    "\n",
    "for number in A:\n",
    "    output[(number + 2) % 3 ].append(number)\n",
    "   \n",
    "print(output)"
   ]
  }
 ],
 "metadata": {
  "interpreter": {
   "hash": "20f88d9a9a8e4c39652959a456a5b2bd9182bfea2bf41942a40b337260aa2078"
  },
  "kernelspec": {
   "display_name": "Python 3.10.1 64-bit",
   "language": "python",
   "name": "python3"
  },
  "language_info": {
   "codemirror_mode": {
    "name": "ipython",
    "version": 3
   },
   "file_extension": ".py",
   "mimetype": "text/x-python",
   "name": "python",
   "nbconvert_exporter": "python",
   "pygments_lexer": "ipython3",
   "version": "3.10.1"
  },
  "orig_nbformat": 4
 },
 "nbformat": 4,
 "nbformat_minor": 2
}
