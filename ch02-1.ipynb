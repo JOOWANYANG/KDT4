{
 "cells": [
  {
   "cell_type": "markdown",
   "metadata": {},
   "source": [
    "### 02-1  자료형과 문자열\n",
    "---\n",
    "#### 시작하기 전에   \n",
    "\n",
    "프로그렘은 기본적으로 '자료를 처리' 하는 역할을 한다.   \n",
    "데이터를 처리한다는 것은 결국..\n",
    "\"C(create) R(read) U(update) D(delete) 작업을 한다는 것이다.\""
   ]
  },
  {
   "cell_type": "markdown",
   "metadata": {},
   "source": [
    "> 자료형(date type)과 기본(primitive) 자료형\n",
    "* 문자열(string): 메일 제목, 메시지 내용 등\n",
    "* 숫자(number): 학생 성적,\n",
    "* 불(boolean): 로그인 상태, flag -> True , False   \n",
    "자료형은 자료의 형태이고,   \n",
    "자료형에 따라서 컴퓨터가 데이터를 해석하는 방법이 달라진다."
   ]
  },
  {
   "cell_type": "markdown",
   "metadata": {},
   "source": [
    "> 자료형 확인하기"
   ]
  },
  {
   "cell_type": "code",
   "execution_count": 3,
   "metadata": {},
   "outputs": [
    {
     "name": "stdout",
     "output_type": "stream",
     "text": [
      "<class 'str'>\n",
      "<class 'int'>\n"
     ]
    }
   ],
   "source": [
    "print(type(\"안녕하세요\"))\n",
    "\n",
    "# 파이썬에서는 기본 자료형도 class : 기본 자료형(int, float, double ,byte)\n",
    "# 자바에서는 wrapper ' class 기본자료형 해당함 : integer , float \n",
    "print(type(273))\n",
    "i = 273\n"
   ]
  }
 ],
 "metadata": {
  "interpreter": {
   "hash": "20f88d9a9a8e4c39652959a456a5b2bd9182bfea2bf41942a40b337260aa2078"
  },
  "kernelspec": {
   "display_name": "Python 3.10.1 64-bit",
   "language": "python",
   "name": "python3"
  },
  "language_info": {
   "codemirror_mode": {
    "name": "ipython",
    "version": 3
   },
   "file_extension": ".py",
   "mimetype": "text/x-python",
   "name": "python",
   "nbconvert_exporter": "python",
   "pygments_lexer": "ipython3",
   "version": "3.10.1"
  },
  "orig_nbformat": 4
 },
 "nbformat": 4,
 "nbformat_minor": 2
}
