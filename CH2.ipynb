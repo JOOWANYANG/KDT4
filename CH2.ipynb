{
 "cells": [
  {
   "cell_type": "markdown",
   "metadata": {},
   "source": [
    "# 자료형과 문자열\n",
    "---\n",
    "### 자료형 : type() 을 이용해 확인\n",
    "### 문자열 : string()\n",
    "1. 큰 따옴표로 문자열 만들기  \n",
    "2. 작은 따옴표로 문자열 만들기   \n",
    "> why? : 자료(문자열) 과 자료()문자열 을 단순 연결 할수 없음  \n",
    "```python\n",
    "print(\"\"안녕하세요\" 라고 말했습니다\") (X)\n",
    "print(\"'안녕하세요' 라고 말했습니다\") (O)   \n",
    "``` \n",
    "> Escape 문자를 사용해 문자열 만들기 : \\ 를 조합해서 만드는 문자   \n",
    "* \"\\ : 큰 따음표를 의미하지만 \" 와는 다르다\n",
    "```python\n",
    "print(\"\\\"안녕하세요\\\" 라고 말했습니다\") (O)\n",
    "```\n",
    "> 다양한 Escape 문자들\n",
    "* \\n : 줄바꿈  \n",
    "```python\n",
    "print(\"동해물과 백두산이 마르고 닳도록\\n하느님이 보우하사 우리나라만세)\n",
    "``` \n",
    "* \"\"\" : \\n 하지 않고 Enter 를 누르는곳마다 줄바꿈이 일어남\n",
    "```python\n",
    "print(\"\"\"동해물과 백두산이 마르고 닳도록\n",
    "하느님이 보우하사 우리나라만세\n",
    "무궁화 삼천리 화려강산 대한사람\n",
    "대한으로 길이보전하세\"\"\")\n",
    "```\n",
    "* \"\"\"\\ : : 코드를 쉽게 보려고 줄바꿈한 것이지 실제 줄바꿈한 것이 아니다\n",
    "```python\n",
    "print(\"\"\"\\\n",
    "    동해물과 백두산이 마르고 닳도록\n",
    "    하느님이 보우하사 우리나라 만세\n",
    "    무궁화 삼천리 화려강산 대한사람\n",
    "    대한으로 길이 보전하세\\\n",
    "        \"\"\")\n",
    " ```\n",
    "* \\t : 탭\n",
    "* \\\\\\ = \\\n",
    "\n"
   ]
  },
  {
   "cell_type": "markdown",
   "metadata": {},
   "source": []
  },
  {
   "cell_type": "markdown",
   "metadata": {},
   "source": [
    "# 문자열 연산자\n",
    "---\n",
    "### 1. + : 두 문자열을 연결하여 새로운 문자열을 만들어 냄\n"
   ]
  },
  {
   "cell_type": "code",
   "execution_count": 2,
   "metadata": {},
   "outputs": [
    {
     "name": "stdout",
     "output_type": "stream",
     "text": [
      "안녕하세요\n"
     ]
    }
   ],
   "source": [
    "print(\"안녕\" + \"하세요\")"
   ]
  },
  {
   "cell_type": "code",
   "execution_count": 5,
   "metadata": {},
   "outputs": [
    {
     "ename": "TypeError",
     "evalue": "can only concatenate str (not \"int\") to str",
     "output_type": "error",
     "traceback": [
      "\u001b[1;31m---------------------------------------------------------------------------\u001b[0m",
      "\u001b[1;31mTypeError\u001b[0m                                 Traceback (most recent call last)",
      "\u001b[1;32m~\\AppData\\Local\\Temp/ipykernel_17320/3422033836.py\u001b[0m in \u001b[0;36m<module>\u001b[1;34m\u001b[0m\n\u001b[1;32m----> 1\u001b[1;33m \u001b[0mprint\u001b[0m\u001b[1;33m(\u001b[0m\u001b[1;34m\"안녕하세요\"\u001b[0m \u001b[1;33m+\u001b[0m \u001b[1;36m1\u001b[0m\u001b[1;33m)\u001b[0m\u001b[1;33m\u001b[0m\u001b[1;33m\u001b[0m\u001b[0m\n\u001b[0m",
      "\u001b[1;31mTypeError\u001b[0m: can only concatenate str (not \"int\") to str"
     ]
    }
   ],
   "source": [
    "print(\"안녕하세요\" + 1)"
   ]
  },
  {
   "cell_type": "markdown",
   "metadata": {},
   "source": [
    "* ##### Why error?:   \n",
    "        문자열은 문자열끼리만 숫자는 숫자랑만 연결해야 함,  \n",
    "        문자열과 숫자를 연결하려면 숫자에 큰따옴표를 붙혀 문자열로 인식시켜야 함"
   ]
  },
  {
   "cell_type": "code",
   "execution_count": 7,
   "metadata": {},
   "outputs": [
    {
     "name": "stdout",
     "output_type": "stream",
     "text": [
      "안녕하세요1\n"
     ]
    }
   ],
   "source": [
    "print(\"안녕하세요\" + \"1\")"
   ]
  },
  {
   "cell_type": "markdown",
   "metadata": {},
   "source": [
    "### 2. * : 문자열을 *숫자 와 연결하면 문자열을 그 숫자만큼 반복할수 있음"
   ]
  },
  {
   "cell_type": "code",
   "execution_count": 11,
   "metadata": {},
   "outputs": [
    {
     "name": "stdout",
     "output_type": "stream",
     "text": [
      "안녕하세요안녕하세요안녕하세요\n"
     ]
    }
   ],
   "source": [
    "print(\"안녕하세요\"*3)"
   ]
  },
  {
   "cell_type": "markdown",
   "metadata": {},
   "source": [
    "### 3. 인덱싱[ ] : [ ]안에는 선택할 문자의 위치를 지정"
   ]
  },
  {
   "cell_type": "code",
   "execution_count": 16,
   "metadata": {},
   "outputs": [
    {
     "name": "stdout",
     "output_type": "stream",
     "text": [
      "문자 선택 연산자에 대해 알아볼까요?\n",
      "안\n",
      "하\n",
      "요\n",
      "요\n"
     ]
    }
   ],
   "source": [
    "print(\"문자 선택 연산자에 대해 알아볼까요?\")\n",
    "print(\"안녕하세요\"[0])\n",
    "print(\"안녕하세요\"[2])\n",
    "print(\"안녕하세요\"[4])\n",
    "print(\"안녕하세요\"[-1])"
   ]
  },
  {
   "cell_type": "markdown",
   "metadata": {},
   "source": [
    "### 4. 슬라이싱[ : ] : 문자열의 특정 범위를 선택\n",
    "* [n : m+1] : 마지막 숫자 m 을 포함하지 않기 때문에 +1 을 해줘야 함"
   ]
  },
  {
   "cell_type": "code",
   "execution_count": 17,
   "metadata": {},
   "outputs": [
    {
     "name": "stdout",
     "output_type": "stream",
     "text": [
      "녕하세\n"
     ]
    }
   ],
   "source": [
    "print(\"안녕하세요\"[1:4])"
   ]
  },
  {
   "cell_type": "markdown",
   "metadata": {},
   "source": [
    "* 값을 생략한 경우 해당 문자열의 끝까지 선택됨"
   ]
  },
  {
   "cell_type": "code",
   "execution_count": 18,
   "metadata": {},
   "outputs": [
    {
     "name": "stdout",
     "output_type": "stream",
     "text": [
      "안녕\n",
      "하세요\n"
     ]
    }
   ],
   "source": [
    "print(\"안녕하세요\"[:2])\n",
    "print(\"안녕하세요\"[2:])"
   ]
  },
  {
   "cell_type": "markdown",
   "metadata": {},
   "source": [
    "### 5. len() : 문자열의 길이 구하기"
   ]
  },
  {
   "cell_type": "code",
   "execution_count": 19,
   "metadata": {},
   "outputs": [
    {
     "name": "stdout",
     "output_type": "stream",
     "text": [
      "5\n"
     ]
    }
   ],
   "source": [
    "print(len(\"안녕하세요\"))"
   ]
  },
  {
   "cell_type": "markdown",
   "metadata": {},
   "source": [
    "# 숫자\n",
    "---\n",
    "\n",
    "* int(integer) : 정수\n",
    "* float(float point) : 부동 소수점"
   ]
  },
  {
   "cell_type": "code",
   "execution_count": 2,
   "metadata": {},
   "outputs": [
    {
     "name": "stdout",
     "output_type": "stream",
     "text": [
      "<class 'int'>\n",
      "<class 'float'>\n"
     ]
    }
   ],
   "source": [
    "print(type(0))\n",
    "print(type(0.0))"
   ]
  },
  {
   "cell_type": "markdown",
   "metadata": {},
   "source": [
    "\n",
    "* // : 몫 연산"
   ]
  },
  {
   "cell_type": "code",
   "execution_count": 6,
   "metadata": {},
   "outputs": [
    {
     "name": "stdout",
     "output_type": "stream",
     "text": [
      "3 / 2 = 1.5\n",
      "3 // 2 = 1\n"
     ]
    }
   ],
   "source": [
    "print(\"3 / 2 =\" , 3/2 )\n",
    "print(\"3 // 2 =\", 3//2 )"
   ]
  },
  {
   "cell_type": "markdown",
   "metadata": {},
   "source": [
    "* % : 나머지 연산"
   ]
  },
  {
   "cell_type": "code",
   "execution_count": 7,
   "metadata": {},
   "outputs": [
    {
     "name": "stdout",
     "output_type": "stream",
     "text": [
      "5 % 2 = 1\n"
     ]
    }
   ],
   "source": [
    "print(\"5 % 2 =\",5%2)"
   ]
  },
  {
   "cell_type": "markdown",
   "metadata": {},
   "source": [
    "* \\** : 제곱"
   ]
  },
  {
   "cell_type": "code",
   "execution_count": 9,
   "metadata": {},
   "outputs": [
    {
     "name": "stdout",
     "output_type": "stream",
     "text": [
      "3 ** 2 = 9\n"
     ]
    }
   ],
   "source": [
    "print(\"3 ** 2 =\", 3**2)"
   ]
  },
  {
   "cell_type": "markdown",
   "metadata": {},
   "source": [
    "* type error"
   ]
  },
  {
   "cell_type": "code",
   "execution_count": 10,
   "metadata": {},
   "outputs": [
    {
     "ename": "TypeError",
     "evalue": "can only concatenate str (not \"int\") to str",
     "output_type": "error",
     "traceback": [
      "\u001b[1;31m---------------------------------------------------------------------------\u001b[0m",
      "\u001b[1;31mTypeError\u001b[0m                                 Traceback (most recent call last)",
      "\u001b[1;32m~\\AppData\\Local\\Temp/ipykernel_2260/4059914816.py\u001b[0m in \u001b[0;36m<module>\u001b[1;34m\u001b[0m\n\u001b[0;32m      1\u001b[0m \u001b[0mstring\u001b[0m \u001b[1;33m=\u001b[0m \u001b[1;34m\"문자열\"\u001b[0m\u001b[1;33m\u001b[0m\u001b[1;33m\u001b[0m\u001b[0m\n\u001b[0;32m      2\u001b[0m \u001b[0mnumber\u001b[0m \u001b[1;33m=\u001b[0m \u001b[1;36m273\u001b[0m\u001b[1;33m\u001b[0m\u001b[1;33m\u001b[0m\u001b[0m\n\u001b[1;32m----> 3\u001b[1;33m \u001b[0mstring\u001b[0m \u001b[1;33m+\u001b[0m \u001b[0mnumber\u001b[0m\u001b[1;33m\u001b[0m\u001b[1;33m\u001b[0m\u001b[0m\n\u001b[0m",
      "\u001b[1;31mTypeError\u001b[0m: can only concatenate str (not \"int\") to str"
     ]
    }
   ],
   "source": [
    "string = \"문자열\"\n",
    "number = 273\n",
    "string + number"
   ]
  },
  {
   "cell_type": "markdown",
   "metadata": {},
   "source": [
    ">why error? : 문자열 + 숫자 를 문자 연산자 \"+\" 로 연결 하려다 보니 에러가 난것"
   ]
  },
  {
   "cell_type": "markdown",
   "metadata": {},
   "source": [
    "# 변수와 입력\n",
    "---\n",
    "\n",
    "> 변수 만들기 ,사용하기 ( 원의 둘레 구하기 )"
   ]
  },
  {
   "cell_type": "code",
   "execution_count": 11,
   "metadata": {},
   "outputs": [
    {
     "name": "stdout",
     "output_type": "stream",
     "text": [
      "S = 314.1592\n"
     ]
    }
   ],
   "source": [
    "pi = 3.141592\n",
    "r = 10\n",
    "\n",
    "print(\"S =\", pi*r*r)"
   ]
  },
  {
   "cell_type": "markdown",
   "metadata": {},
   "source": [
    "> 복합 대입 연산자\n",
    "* += : 덧셈 후 대입\n",
    "* -= : 뺄셈 후 대입"
   ]
  },
  {
   "cell_type": "code",
   "execution_count": 15,
   "metadata": {},
   "outputs": [
    {
     "name": "stdout",
     "output_type": "stream",
     "text": [
      "number = 210\n"
     ]
    }
   ],
   "source": [
    "number = 100\n",
    "number += 10\n",
    "number -= 5\n",
    "number *= 2\n",
    "print(\"number =\", number)\n",
    "\n",
    "# (100+10-5)*2 = 210"
   ]
  },
  {
   "cell_type": "markdown",
   "metadata": {},
   "source": [
    "> 문자열 대입도 같음"
   ]
  },
  {
   "cell_type": "code",
   "execution_count": 23,
   "metadata": {},
   "outputs": [
    {
     "name": "stdout",
     "output_type": "stream",
     "text": [
      "string: 안녕하세요!!?\n"
     ]
    }
   ],
   "source": [
    "string = \"안녕하세요\"\n",
    "string += \"!!\"\n",
    "string += \"?\"\n",
    "print(\"string:\", string)"
   ]
  },
  {
   "cell_type": "markdown",
   "metadata": {},
   "source": [
    "> Input( ) : 사용자 입력"
   ]
  },
  {
   "cell_type": "code",
   "execution_count": 26,
   "metadata": {},
   "outputs": [
    {
     "name": "stdout",
     "output_type": "stream",
     "text": [
      "ㅇ\n"
     ]
    }
   ],
   "source": [
    "string = input(\"인사말을 입력하세요:\")\n",
    "print(string) # Input 함수의 결과로 나온 것 = 리턴값"
   ]
  },
  {
   "cell_type": "markdown",
   "metadata": {},
   "source": [
    "* Input 함수의 리턴값은 무조건 문자열이다"
   ]
  },
  {
   "cell_type": "code",
   "execution_count": 28,
   "metadata": {},
   "outputs": [
    {
     "name": "stdout",
     "output_type": "stream",
     "text": [
      "<class 'str'>\n",
      "<class 'str'>\n"
     ]
    }
   ],
   "source": [
    "print(type(string))\n",
    "number = input(\"숫자를 입력하세요:\")\n",
    "print(type(number))"
   ]
  },
  {
   "cell_type": "markdown",
   "metadata": {},
   "source": [
    "> 문자열을 숫자로 바꾸기\n",
    "* int() : 문자열을 정수 자료형으로 변환\n",
    "* float() : 문자열을 부동 소수점 자료형으로 변환"
   ]
  },
  {
   "cell_type": "code",
   "execution_count": null,
   "metadata": {},
   "outputs": [],
   "source": [
    "string_A = input(\"입력A\")\n",
    "int_A = int(string_A)\n",
    "\n",
    "string_B = input(\"입력B\")\n",
    "int_B = int(string_B)\n",
    "\n",
    "print(\"문자열\", string_A + string_B)\n",
    "print(\"숫자\", int_A + int_B)"
   ]
  },
  {
   "cell_type": "code",
   "execution_count": null,
   "metadata": {},
   "outputs": [],
   "source": [
    "input_A = float(input(\"첫번쨰 숫자\"))\n",
    "input_B = float(input(\"두번째 숫자\"))\n",
    "\n",
    "print(\"덧셈 :\", input_A + input_B)\n",
    "print(\"뺄셈 :\", input_A - input_B)\n",
    "print(\"곱셈 :\", input_A * input_B)\n",
    "print(\"나눗셈 :\", input_A / input_B)"
   ]
  },
  {
   "cell_type": "markdown",
   "metadata": {},
   "source": [
    "> 변환할수 없는 것을 변환하려고 할때\n",
    "* 숫자가 아닌것을 숫자로 변환하려고 할때"
   ]
  },
  {
   "cell_type": "code",
   "execution_count": 36,
   "metadata": {},
   "outputs": [
    {
     "ename": "ValueError",
     "evalue": "invalid literal for int() with base 10: '안녕하세요'",
     "output_type": "error",
     "traceback": [
      "\u001b[1;31m---------------------------------------------------------------------------\u001b[0m",
      "\u001b[1;31mValueError\u001b[0m                                Traceback (most recent call last)",
      "\u001b[1;32m~\\AppData\\Local\\Temp/ipykernel_2260/2294836229.py\u001b[0m in \u001b[0;36m<module>\u001b[1;34m\u001b[0m\n\u001b[1;32m----> 1\u001b[1;33m \u001b[0mint\u001b[0m\u001b[1;33m(\u001b[0m\u001b[1;34m\"안녕하세요\"\u001b[0m\u001b[1;33m)\u001b[0m\u001b[1;33m\u001b[0m\u001b[1;33m\u001b[0m\u001b[0m\n\u001b[0m\u001b[0;32m      2\u001b[0m \u001b[0mfloat\u001b[0m\u001b[1;33m(\u001b[0m\u001b[1;34m\"안녕하세요\"\u001b[0m\u001b[1;33m)\u001b[0m\u001b[1;33m\u001b[0m\u001b[1;33m\u001b[0m\u001b[0m\n",
      "\u001b[1;31mValueError\u001b[0m: invalid literal for int() with base 10: '안녕하세요'"
     ]
    }
   ],
   "source": [
    "int(\"안녕하세요\")\n",
    "float(\"안녕하세요\")"
   ]
  },
  {
   "cell_type": "markdown",
   "metadata": {},
   "source": [
    "* 소수점이 있는 숫자 형식의 문자열을 int() 함수로 변환하려고 할때"
   ]
  },
  {
   "cell_type": "code",
   "execution_count": null,
   "metadata": {},
   "outputs": [],
   "source": [
    "int(\"3.14\")"
   ]
  },
  {
   "cell_type": "markdown",
   "metadata": {},
   "source": [
    "> 숫자를 문자열로 바꾸기"
   ]
  },
  {
   "cell_type": "code",
   "execution_count": 38,
   "metadata": {},
   "outputs": [
    {
     "name": "stdout",
     "output_type": "stream",
     "text": [
      "<class 'str'> 3\n",
      "<class 'str'> 3.14\n"
     ]
    }
   ],
   "source": [
    "A= str(3)\n",
    "B = str(3.14)\n",
    "print(type(A), A)\n",
    "print(type(B), B)"
   ]
  },
  {
   "cell_type": "markdown",
   "metadata": {},
   "source": [
    "# 2-4 숫자와 문자열의 다양한 기능\n",
    "---\n",
    "\n",
    "> ## format( ) : \"{ }.format(X) 의 형태로 사용된다.\n",
    "* ##### format()함수로 숫자를 문자열로 변환하기:   \n",
    "             문자열의 { } 기호가 ( ) 안에 있는 매개변수로 대치되면서 숫자가 문자열이 되는 것이다.    \n",
    "             예를들어 \"{ }\".format(10) 인 경우 { }안의 숫자 10이 ( )안의 문자열 10이 되는것이다.\n",
    "            \n",
    "            "
   ]
  },
  {
   "cell_type": "code",
   "execution_count": 39,
   "metadata": {},
   "outputs": [
    {
     "name": "stdout",
     "output_type": "stream",
     "text": [
      "10\n",
      "<class 'str'>\n"
     ]
    }
   ],
   "source": [
    "A = \"{}\".format(10)\n",
    "print(A)\n",
    "print(type(A))"
   ]
  },
  {
   "cell_type": "code",
   "execution_count": null,
   "metadata": {},
   "outputs": [],
   "source": [
    "A = \"{}만원\".format(5000)\n",
    "B = \"파이썬 열공하여 첫 연봉 {}만원 만들기\".format(5000)\n",
    "C = \"{} {} {}\".format(3000, 4000, 5000)\n",
    "D = \"{} {} {}\".format(1, \"문자열\", True)\n",
    "\n",
    "print(A)\n",
    "print(B)\n",
    "print(C)\n",
    "print(D)"
   ]
  },
  {
   "cell_type": "markdown",
   "metadata": {},
   "source": [
    "* {:d} : int자료형의 정수를 출력하겠다고 직접적으로 지정"
   ]
  },
  {
   "cell_type": "code",
   "execution_count": 56,
   "metadata": {},
   "outputs": [
    {
     "name": "stdout",
     "output_type": "stream",
     "text": [
      "52\n",
      "   52\n",
      "        52\n",
      "00052\n",
      "-0052\n",
      "+52\n",
      "-52\n",
      " 52\n",
      "-52\n",
      "  +52\n",
      "  -52\n",
      "+  52\n",
      "-  52\n",
      "+0052\n",
      "-0052\n"
     ]
    }
   ],
   "source": [
    "# 정수\n",
    "A = \"{:d}\".format(52)\n",
    "\n",
    "# 특정 칸에 출력하기\n",
    "B = \"{:5d}\".format(52)\n",
    "C = \"{:10d}\".format(52)\n",
    "\n",
    "# 빈칸을 0으로 채우기\n",
    "D = \"{:05d}\".format(52)\n",
    "E = \"{:05d}\".format(-52)\n",
    "\n",
    "# 기호와 함께 출력하기\n",
    "F = \"{:+d}\".format(52)\n",
    "G = \"{:+d}\".format(-52)\n",
    "H = \"{: d}\".format(52)\n",
    "I = \"{: d}\".format(-52)\n",
    "\n",
    "#조합\n",
    "J = \"{:+5d}\".format(52)\n",
    "K = \"{:+5d}\".format(-52)\n",
    "\n",
    "# = 는 기호를 빈칸 앞으로 밀기\n",
    "L = \"{:=+5d}\".format(52)\n",
    "M = \"{:=5d}\".format(-52)\n",
    "O = \"{:+05d}\".format(52)\n",
    "P = \"{:+05d}\".format(-52)\n",
    "\n",
    "\n",
    "print(A)\n",
    "print(B)\n",
    "print(C)\n",
    "print(D)\n",
    "print(E)\n",
    "print(F)\n",
    "print(G)\n",
    "print(H)\n",
    "print(I)\n",
    "print(J)\n",
    "print(K)\n",
    "print(L)\n",
    "print(M)\n",
    "print(O)\n",
    "print(P)"
   ]
  },
  {
   "cell_type": "markdown",
   "metadata": {},
   "source": [
    "* {:f} : float 자료형을 출력하겠다고 지정"
   ]
  },
  {
   "cell_type": "code",
   "execution_count": 61,
   "metadata": {},
   "outputs": [
    {
     "name": "stdout",
     "output_type": "stream",
     "text": [
      "3.140000\n",
      "       3.140000\n",
      "      +3.140000\n",
      "+0000003.140000\n"
     ]
    }
   ],
   "source": [
    "A = \"{:f}\".format(3.14)\n",
    "B = \"{:15f}\".format(3.14)\n",
    "C = \"{:+15f}\".format(3.14)\n",
    "D = \"{:+015f}\".format(3.14)\n",
    "\n",
    "print(A)\n",
    "print(B)\n",
    "print(C)\n",
    "print(D)"
   ]
  },
  {
   "cell_type": "markdown",
   "metadata": {},
   "source": [
    "* {:f}는 소수점 아래 자릿수 지정가능"
   ]
  },
  {
   "cell_type": "code",
   "execution_count": null,
   "metadata": {},
   "outputs": [],
   "source": [
    "# 15번 띄우고 n번째 소수점 지정\n",
    "\n",
    "A = \"{:15.3f}\".format(3.14)\n",
    "B = \"{:15.2f}\".format(3.14)\n",
    "C = \"{:15.1f}\".format(3.14)\n",
    "\n",
    "print(A)\n",
    "print(B)\n",
    "print(C)"
   ]
  },
  {
   "cell_type": "markdown",
   "metadata": {},
   "source": [
    "* ##### {:g} : 의미 없는 소수점 제거   \n",
    "            파이썬은 0과 0.0 을 출력했을때 내부적으로 자료형이 다르므로 서로 다른값으로 출력됩니다.   \n",
    "            그런데 의미없는 0을 제거한 후 출력하고 싶을때가 있을때 {:g}를 사용합니다.\n"
   ]
  },
  {
   "cell_type": "code",
   "execution_count": 64,
   "metadata": {},
   "outputs": [
    {
     "name": "stdout",
     "output_type": "stream",
     "text": [
      "3.0\n",
      "3\n"
     ]
    }
   ],
   "source": [
    "A = 3.0\n",
    "B = \"{:g}\".format(A)\n",
    "print(A)\n",
    "print(B)"
   ]
  },
  {
   "cell_type": "markdown",
   "metadata": {},
   "source": [
    "> ## upper( ) , lower( ) : 대소문자 바꾸기"
   ]
  }
 ],
 "metadata": {
  "interpreter": {
   "hash": "20f88d9a9a8e4c39652959a456a5b2bd9182bfea2bf41942a40b337260aa2078"
  },
  "kernelspec": {
   "display_name": "Python 3.10.1 64-bit",
   "language": "python",
   "name": "python3"
  },
  "language_info": {
   "codemirror_mode": {
    "name": "ipython",
    "version": 3
   },
   "file_extension": ".py",
   "mimetype": "text/x-python",
   "name": "python",
   "nbconvert_exporter": "python",
   "pygments_lexer": "ipython3",
   "version": "3.10.1"
  },
  "orig_nbformat": 4
 },
 "nbformat": 4,
 "nbformat_minor": 2
}
