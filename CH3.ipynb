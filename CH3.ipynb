{
 "cells": [
  {
   "cell_type": "markdown",
   "metadata": {},
   "source": [
    "# 조건문\n",
    "---"
   ]
  },
  {
   "cell_type": "markdown",
   "metadata": {},
   "source": [
    "> ## Boolean(불) : 참과 거짓을 판별해줌\n",
    "### 불 연산자\n",
    "    * == : 같다   \n",
    "    * != : 다르다\n",
    "    * <= : 작거나 같다\n",
    "    * >= : 크거나 같다"
   ]
  },
  {
   "cell_type": "code",
   "execution_count": 4,
   "metadata": {},
   "outputs": [
    {
     "name": "stdout",
     "output_type": "stream",
     "text": [
      "False\n",
      "True\n",
      "True\n",
      "False\n"
     ]
    }
   ],
   "source": [
    "print(10 == 100)\n",
    "print(10 != 100)\n",
    "\n",
    "x = 25\n",
    "print(10 < x < 30)\n",
    "print(30 < x < 40)"
   ]
  },
  {
   "cell_type": "markdown",
   "metadata": {},
   "source": [
    "> ## not 연산자 : 참과 거짓을 반대로 바꿀때 사용 , 단항 연산자라고 함"
   ]
  },
  {
   "cell_type": "code",
   "execution_count": 10,
   "metadata": {},
   "outputs": [
    {
     "name": "stdout",
     "output_type": "stream",
     "text": [
      "False\n",
      "True\n",
      "under_20 :  True\n",
      "not under_20 :  False\n"
     ]
    }
   ],
   "source": [
    "print(not True)\n",
    "print(not False)\n",
    "\n",
    "x = 10\n",
    "under_20 = x < 20\n",
    "print(\"under_20 : \", under_20)\n",
    "print(\"not under_20 : \", not under_20)"
   ]
  },
  {
   "cell_type": "markdown",
   "metadata": {},
   "source": [
    "> ## and 연산자 : 양쪽 값이 모두 참일때만 Ture    \n",
    "> ## or  연산자 : 둘중 하나만 참이여도 Ture"
   ]
  },
  {
   "cell_type": "code",
   "execution_count": 15,
   "metadata": {},
   "outputs": [
    {
     "name": "stdout",
     "output_type": "stream",
     "text": [
      "True\n",
      "False\n",
      "True\n",
      "True\n"
     ]
    }
   ],
   "source": [
    "print(True and True)\n",
    "print(True and False)\n",
    "print(True or True)\n",
    "print(True or False)"
   ]
  },
  {
   "cell_type": "markdown",
   "metadata": {},
   "source": [
    "> ## If 조건문 : If + 결과값 + : + \" \" x 4 + print( )"
   ]
  },
  {
   "cell_type": "code",
   "execution_count": 19,
   "metadata": {},
   "outputs": [
    {
     "name": "stdout",
     "output_type": "stream",
     "text": [
      "음수\n"
     ]
    }
   ],
   "source": [
    "number = input(\"정수 입력\")\n",
    "number = int(number)\n",
    "\n",
    "if number > 0:\n",
    "        print(\"양수\")\n",
    "if number < 0:\n",
    "        print(\"음수\")\n",
    "if number == 0:\n",
    "        print(\"0\")"
   ]
  },
  {
   "cell_type": "markdown",
   "metadata": {},
   "source": [
    "> ## 날짜 / 시간 : datetime"
   ]
  },
  {
   "cell_type": "code",
   "execution_count": 65,
   "metadata": {},
   "outputs": [
    {
     "name": "stdout",
     "output_type": "stream",
     "text": [
      "2022 년\n",
      "1 월\n",
      "2 일\n",
      "17 시\n",
      "54 분\n",
      "51 초\n",
      "2022년 1월 2시 17분 54초\n",
      "지금 시간은 17시 로 오후\n",
      "지금은 1월로 겨울\n"
     ]
    }
   ],
   "source": [
    "import datetime\n",
    "now = datetime.datetime.now()\n",
    "\n",
    "print(now.year,\"년\")\n",
    "print(now.month,\"월\")\n",
    "print(now.day,\"일\")\n",
    "print(now.hour,\"시\")\n",
    "print(now.minute,\"분\")\n",
    "print(now.second,\"초\")\n",
    "\n",
    "print(\"{}년 {}월 {}시 {}분 {}초\".format(\n",
    "now.year,\n",
    "now.month,\n",
    "now.day,\n",
    "now.hour,\n",
    "now.minute,\n",
    "now.second\n",
    "))\n",
    "\n",
    "if now.hour < 12:\n",
    "        print(\"지금 시간은 {}시 로 오전\".format(now.hour))\n",
    "if now.hour > 12:\n",
    "        print(\"지금 시간은 {}시 로 오후\".format(now.hour))\n",
    "\n",
    "if now.hour == 12 or 1 or 2:\n",
    "        print(\"지금은 {}월로 겨울\".format(now.month))"
   ]
  },
  {
   "cell_type": "markdown",
   "metadata": {},
   "source": [
    "> ## 홀짝 구분"
   ]
  },
  {
   "cell_type": "code",
   "execution_count": null,
   "metadata": {},
   "outputs": [],
   "source": [
    "number = input(\"정수\")\n",
    "last_character = number[-1] # 마지막 자리 추출\n",
    "last_number = int(last_character) # 숫자로 변환\n",
    "if last_number == 0 \\\n",
    "    or last_number == 2 \\\n",
    "    or last_number == 4 \\\n",
    "    or last_number == 6 \\\n",
    "    or last_number == 8:\n",
    "    print(\"짝수\")\n",
    "else:\n",
    "    print(\"홀수\")"
   ]
  },
  {
   "cell_type": "code",
   "execution_count": 73,
   "metadata": {},
   "outputs": [
    {
     "name": "stdout",
     "output_type": "stream",
     "text": [
      "짝수\n"
     ]
    }
   ],
   "source": [
    "number = input(\"정수\")\n",
    "last_character = number[-1]\n",
    "\n",
    "if last_character in \"02468\":\n",
    "        print(\"짝수\")\n",
    "if last_character in \"13579\":\n",
    "        print(\"홀수\")"
   ]
  },
  {
   "cell_type": "code",
   "execution_count": 74,
   "metadata": {},
   "outputs": [
    {
     "name": "stdout",
     "output_type": "stream",
     "text": [
      "홀수\n"
     ]
    }
   ],
   "source": [
    "number = input(\"정수\")\n",
    "number = int(number)\n",
    "\n",
    "if number % 2 == 0:\n",
    "    print(\"짝수\")\n",
    "\n",
    "if number % 2 == 1:\n",
    "    print(\"홀수\")"
   ]
  },
  {
   "cell_type": "markdown",
   "metadata": {},
   "source": [
    "> ## if~else : if 가 거짓일때 else   \n",
    "> ## elif : 세게 이상의 if 구문 일 경우"
   ]
  },
  {
   "cell_type": "code",
   "execution_count": 76,
   "metadata": {},
   "outputs": [
    {
     "name": "stdout",
     "output_type": "stream",
     "text": [
      "겨울\n"
     ]
    }
   ],
   "source": [
    "import datetime\n",
    "now = datetime.datetime.now()\n",
    "month = now.month\n",
    "\n",
    "if 3 <= month <= 5:\n",
    "    print(\"봄\")\n",
    "elif 6 <= month <= 8:\n",
    "    print(\"여름\")\n",
    "elif 9 <= month <= 11:\n",
    "    print(\"가을\")\n",
    "else:\n",
    "    print(\"겨울\")\n"
   ]
  },
  {
   "cell_type": "code",
   "execution_count": 78,
   "metadata": {},
   "outputs": [
    {
     "name": "stdout",
     "output_type": "stream",
     "text": [
      "교수님의 사랑\n"
     ]
    }
   ],
   "source": [
    "score = float(input(\"학점\"))\n",
    "\n",
    "if score == 4.5:\n",
    "    print(\"신\")\n",
    "elif 4.2 <= score:\n",
    "    print(\"교수님의 사랑\")\n",
    "elif 3.5 <= score:\n",
    "    print(\"현 체제의 수호자\")\n",
    "elif 2.8 <= score:\n",
    "    print(\"일반인\")\n",
    "elif 2.3 <= score:\n",
    "    print(\"일탈을 꿈꾸는 소시민\")\n",
    "elif 1.75 <= score:\n",
    "    print(\"오락문화의 선구자\")\n",
    "elif 1.0 <= score:\n",
    "    print(\"불가촉천민\")\n",
    "elif 0.5 <= score:\n",
    "    print(\"자벌레\")\n",
    "elif 0 < score:\n",
    "    print(\"플랑크톤\")\n",
    "else:\n",
    "    print(\"시대를 앞서가는 혁명의 씨앗\")\n"
   ]
  },
  {
   "cell_type": "markdown",
   "metadata": {},
   "source": [
    "> ## If 조건문에서 False 로 변환되는 값   \n",
    "        * None\n",
    "        * 0 , 0.0\n",
    "        * 빈 컨테이너\n",
    "##### 그 외는 모두 True"
   ]
  },
  {
   "cell_type": "code",
   "execution_count": null,
   "metadata": {},
   "outputs": [],
   "source": [
    "print(\"if 조건문에 0 넣기\")\n",
    "if 0:\n",
    "    print(\"0은 True 로 변환\")\n",
    "else:\n",
    "    print(\"0은 False 로 변환\")\n",
    "print()\n",
    "\n",
    "print(\"if 조건문에 빈 문자열 넣기\")\n",
    "if \"\":\n",
    "    print(\"빈 문자열은 Ture로 변환\")\n",
    "else:\n",
    "    print(\"빈 문자열은 False로 변환\")"
   ]
  },
  {
   "cell_type": "markdown",
   "metadata": {},
   "source": [
    "* ### Why? : \n",
    "       2행의 if 0의 0자체가 false 로 변환되므로 false -> else 값이 되어    \n",
    "       \"0은 False 로 변환\" 이라는 문자열을 출력   \n",
    "       9행의 if \"\"의 \"\"자체가 false 로 변환되므로 \"\" -> else 값이 되어   \n",
    "       \"빈 문자열은 False로 변환\" 이라는 문자열을 출력"
   ]
  },
  {
   "cell_type": "markdown",
   "metadata": {},
   "source": [
    "> ## Pass : 일단 비워놓음\n",
    "            프로그레밍을 하다 보면 골격을 먼저 잡아 놓고 내부에서 처리할 내용은 이후에   \n",
    "            생각하며 만들겠다는 의도로 코딩하는경우가 잦다\n",
    "            이때 Pass 라는 키워드를 넣어놓는다."
   ]
  },
  {
   "cell_type": "code",
   "execution_count": 81,
   "metadata": {},
   "outputs": [],
   "source": [
    "number = input(\"정수\")\n",
    "number = int(number)\n",
    "\n",
    "if number > 0:\n",
    "    pass\n",
    "else:\n",
    "    pass"
   ]
  },
  {
   "cell_type": "markdown",
   "metadata": {},
   "source": [
    ">> ### raise NotimpelmentedError : pass 를 입력해도 잊어버릴 경우 오류를 의도적으로 발생시킴"
   ]
  },
  {
   "cell_type": "code",
   "execution_count": 82,
   "metadata": {},
   "outputs": [
    {
     "ename": "NotImplementedError",
     "evalue": "",
     "output_type": "error",
     "traceback": [
      "\u001b[1;31m---------------------------------------------------------------------------\u001b[0m",
      "\u001b[1;31mNotImplementedError\u001b[0m                       Traceback (most recent call last)",
      "\u001b[1;32m~\\AppData\\Local\\Temp/ipykernel_22024/1403794887.py\u001b[0m in \u001b[0;36m<module>\u001b[1;34m\u001b[0m\n\u001b[0;32m      3\u001b[0m \u001b[1;33m\u001b[0m\u001b[0m\n\u001b[0;32m      4\u001b[0m \u001b[1;32mif\u001b[0m \u001b[0mnumber\u001b[0m \u001b[1;33m>\u001b[0m \u001b[1;36m0\u001b[0m\u001b[1;33m:\u001b[0m\u001b[1;33m\u001b[0m\u001b[1;33m\u001b[0m\u001b[0m\n\u001b[1;32m----> 5\u001b[1;33m     \u001b[1;32mraise\u001b[0m \u001b[0mNotImplementedError\u001b[0m\u001b[1;33m\u001b[0m\u001b[1;33m\u001b[0m\u001b[0m\n\u001b[0m\u001b[0;32m      6\u001b[0m \u001b[1;32melse\u001b[0m\u001b[1;33m:\u001b[0m\u001b[1;33m\u001b[0m\u001b[1;33m\u001b[0m\u001b[0m\n\u001b[0;32m      7\u001b[0m     \u001b[1;32mraise\u001b[0m \u001b[0mNotImplementedError\u001b[0m\u001b[1;33m\u001b[0m\u001b[1;33m\u001b[0m\u001b[0m\n",
      "\u001b[1;31mNotImplementedError\u001b[0m: "
     ]
    }
   ],
   "source": [
    "number = input(\"정수입력\")\n",
    "number = int(number)\n",
    "\n",
    "if number > 0:\n",
    "    raise NotImplementedError\n",
    "else:\n",
    "    raise NotImplementedError"
   ]
  }
 ],
 "metadata": {
  "interpreter": {
   "hash": "20f88d9a9a8e4c39652959a456a5b2bd9182bfea2bf41942a40b337260aa2078"
  },
  "kernelspec": {
   "display_name": "Python 3.10.1 64-bit",
   "language": "python",
   "name": "python3"
  },
  "language_info": {
   "codemirror_mode": {
    "name": "ipython",
    "version": 3
   },
   "file_extension": ".py",
   "mimetype": "text/x-python",
   "name": "python",
   "nbconvert_exporter": "python",
   "pygments_lexer": "ipython3",
   "version": "3.10.1"
  },
  "orig_nbformat": 4
 },
 "nbformat": 4,
 "nbformat_minor": 2
}
